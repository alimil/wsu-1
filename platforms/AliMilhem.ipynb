{
 "cells": [
  {
   "cell_type": "markdown",
   "metadata": {},
   "source": [
    "<h1><center> Assignment 1: Analyzing Dataset </center></h1>\n",
    "\n",
    "#### Submitted by: Ali Milhem\n",
    "#### Submission Date: February 06/2019\n",
    "#### Dataset: 2015 Central Line-Associated Bloodstream Infections (CLABSI) Table\n",
    "#### Link to the Dataset: https://healthdata.gov/dataset/2015-central-line-associated-bloodstream-infections-clabsi-table\n",
    "\n",
    "        "
   ]
  },
  {
   "cell_type": "markdown",
   "metadata": {},
   "source": [
    "                                                                      \n",
    "<h2><center> Reading The Datafile </center></h2> \n",
    "I used Panda API to read the csv files shown in the below code: \n"
   ]
  },
  {
   "cell_type": "code",
   "execution_count": 10,
   "metadata": {},
   "outputs": [
    {
     "name": "stdout",
     "output_type": "stream",
     "text": [
      "Requirement already satisfied: sodapy in /Users/iostaptchenko/projects/secret/wsu/ds/lib/python3.7/site-packages (1.5.0)\r\n",
      "Requirement already satisfied: requests>=2.20.0 in /Users/iostaptchenko/projects/secret/wsu/ds/lib/python3.7/site-packages (from sodapy) (2.21.0)\r\n",
      "Requirement already satisfied: future>=0.17.1 in /Users/iostaptchenko/projects/secret/wsu/ds/lib/python3.7/site-packages (from sodapy) (0.17.1)\r\n",
      "Requirement already satisfied: idna<2.9,>=2.5 in /Users/iostaptchenko/projects/secret/wsu/ds/lib/python3.7/site-packages (from requests>=2.20.0->sodapy) (2.8)\r\n",
      "Requirement already satisfied: chardet<3.1.0,>=3.0.2 in /Users/iostaptchenko/projects/secret/wsu/ds/lib/python3.7/site-packages (from requests>=2.20.0->sodapy) (3.0.4)\r\n",
      "Requirement already satisfied: urllib3<1.25,>=1.21.1 in /Users/iostaptchenko/projects/secret/wsu/ds/lib/python3.7/site-packages (from requests>=2.20.0->sodapy) (1.24.1)\r\n",
      "Requirement already satisfied: certifi>=2017.4.17 in /Users/iostaptchenko/projects/secret/wsu/ds/lib/python3.7/site-packages (from requests>=2.20.0->sodapy) (2018.11.29)\r\n"
     ]
    }
   ],
   "source": [
    "import sys\n",
    "!{sys.executable} -m pip install sodapy\n",
    "import os\n",
    "from sodapy import Socrata\n",
    "import matplotlib.pyplot as plt\n",
    "import seaborn as sns\n",
    "sns.set(style=\"darkgrid\")\n",
    "plt.close('all')\n",
    "import pandas as pd\n",
    "\n"
   ]
  },
  {
   "cell_type": "code",
   "execution_count": 11,
   "metadata": {},
   "outputs": [
    {
     "name": "stderr",
     "output_type": "stream",
     "text": [
      "WARNING:root:Requests made without an app_token will be subject to strict throttling limits.\n"
     ]
    }
   ],
   "source": [
    "\n",
    "client = Socrata(\"data.oregon.gov\", app_token=None)# , os.environ['SOCRATA_TOKEN'])\n"
   ]
  },
  {
   "cell_type": "markdown",
   "metadata": {},
   "source": [
    " Comnnect to data server of Oregon Gov using Socrata  "
   ]
  },
  {
   "cell_type": "code",
   "execution_count": 12,
   "metadata": {},
   "outputs": [
    {
     "name": "stdout",
     "output_type": "stream",
     "text": [
      "[{'percentile_on_2014_national_sir_distribution': '71-75%', 'observed_infections': '12', 'central_line_days': '7622', 'sir_interpretation_2006_08_us_baseline': 'Fewer infections', 'hospital_location': 'All Neonatal ICUs Combined*', 'sir_icon': 'e0e40dd5-b42e-4307-9694-036e3de5e97b', '_2013_hhs_targets': 'Target Not Met', 'predicted_infections': '16.04', '_2015_sir': '0.748', 'sir_95_ci': '0.405, 1.272', 'hospital_name': ' 1. All Oregon'}, {'percentile_on_2014_national_sir_distribution': '61-65%', 'observed_infections': '4', 'benchmark_icon': '07eebf1b-c770-4832-8887-a466dd21ed64', 'central_line_days': '3996', 'sir_interpretation_2006_08_us_baseline': 'Fewer infections', 'hospital_location': 'Adult Cardiac ICUs', 'sir_icon': '4015d519-9bba-4933-b7e6-284366fe9afa', '_2013_hhs_targets': 'SIR Target (<0.5) Met', 'predicted_infections': '7.99', '_2015_sir': '0.501', 'sir_95_ci': '0.159, 1.207', 'hospital_name': ' 1. All Oregon'}]\n"
     ]
    }
   ],
   "source": [
    "datasets = [\"4arj-uxbw\"]\n",
    "ds = client.get(datasets[0])\n",
    "print(ds[1:3])"
   ]
  },
  {
   "cell_type": "markdown",
   "metadata": {},
   "source": [
    "Pull the dataset, print 3 records - identify the fromat!\n",
    "The fromat is what DataFrame can read as records: https://pandas.pydata.org/pandas-docs/stable/reference/api/pandas.DataFrame.from_records.html"
   ]
  },
  {
   "cell_type": "code",
   "execution_count": 18,
   "metadata": {},
   "outputs": [
    {
     "name": "stdout",
     "output_type": "stream",
     "text": [
      "<class 'pandas.core.frame.DataFrame'>\n",
      "RangeIndex: 219 entries, 0 to 218\n",
      "Data columns (total 15 columns):\n",
      "_2013_hhs_targets                               196 non-null object\n",
      "_2015_sir                                       219 non-null object\n",
      "benchmark_icon                                  149 non-null object\n",
      "central_line_days                               219 non-null object\n",
      "county                                          203 non-null object\n",
      "hospital_location                               219 non-null object\n",
      "hospital_name                                   219 non-null object\n",
      "hpp_region                                      203 non-null object\n",
      "location_1                                      203 non-null object\n",
      "observed_infections                             219 non-null object\n",
      "percentile_on_2014_national_sir_distribution    218 non-null object\n",
      "predicted_infections                            219 non-null object\n",
      "sir_95_ci                                       217 non-null object\n",
      "sir_icon                                        120 non-null object\n",
      "sir_interpretation_2006_08_us_baseline          219 non-null object\n",
      "dtypes: object(15)\n",
      "memory usage: 25.7+ KB\n"
     ]
    }
   ],
   "source": [
    "clabsi= pd.DataFrame.from_records(ds)\n",
    "clabsi.head(2)\n",
    "clabsi.info()"
   ]
  },
  {
   "cell_type": "markdown",
   "metadata": {},
   "source": [
    "The column names have underscores in names and lowercased already compared to the csv, but type is Object, and need conversion to int"
   ]
  },
  {
   "cell_type": "code",
   "execution_count": null,
   "metadata": {},
   "outputs": [],
   "source": [
    "clabsi.drop([\"County\", \"sir_icon\", \"Benchmark Icon\"], axis=1, inplace=True)"
   ]
  },
  {
   "cell_type": "markdown",
   "metadata": {},
   "source": [
    "Original starts bellow"
   ]
  },
  {
   "cell_type": "code",
   "execution_count": 41,
   "metadata": {},
   "outputs": [
    {
     "data": {
      "text/html": [
       "<div>\n",
       "<style scoped>\n",
       "    .dataframe tbody tr th:only-of-type {\n",
       "        vertical-align: middle;\n",
       "    }\n",
       "\n",
       "    .dataframe tbody tr th {\n",
       "        vertical-align: top;\n",
       "    }\n",
       "\n",
       "    .dataframe thead th {\n",
       "        text-align: right;\n",
       "    }\n",
       "</style>\n",
       "<table border=\"1\" class=\"dataframe\">\n",
       "  <thead>\n",
       "    <tr style=\"text-align: right;\">\n",
       "      <th></th>\n",
       "      <th>Hospital Name</th>\n",
       "      <th>Hospital Location</th>\n",
       "      <th>Central Line Days</th>\n",
       "      <th>Observed Infections</th>\n",
       "      <th>Predicted Infections</th>\n",
       "      <th>2015 SIR</th>\n",
       "      <th>SIR 95% CI</th>\n",
       "      <th>SIR Interpretation (2006-08 US baseline)</th>\n",
       "      <th>2013 HHS Targets</th>\n",
       "      <th>Percentile on 2014 National SIR Distribution</th>\n",
       "      <th>County</th>\n",
       "      <th>HPP Region</th>\n",
       "      <th>Location 1</th>\n",
       "      <th>SIR Icon</th>\n",
       "      <th>Benchmark Icon</th>\n",
       "    </tr>\n",
       "  </thead>\n",
       "  <tbody>\n",
       "    <tr>\n",
       "      <th>0</th>\n",
       "      <td>1. All Oregon</td>\n",
       "      <td>All Neonatal ICUs Combined*</td>\n",
       "      <td>7622</td>\n",
       "      <td>12</td>\n",
       "      <td>16.04</td>\n",
       "      <td>0.748</td>\n",
       "      <td>0.405, 1.272</td>\n",
       "      <td>Fewer infections</td>\n",
       "      <td>Target Not Met</td>\n",
       "      <td>71-75%</td>\n",
       "      <td>NaN</td>\n",
       "      <td>NaN</td>\n",
       "      <td>NaN</td>\n",
       "      <td>https://data.oregon.gov/views/4arj-uxbw/files/...</td>\n",
       "      <td>NaN</td>\n",
       "    </tr>\n",
       "    <tr>\n",
       "      <th>1</th>\n",
       "      <td>1. All Oregon</td>\n",
       "      <td>Pediatric Medical/Surgical ICUs</td>\n",
       "      <td>4431</td>\n",
       "      <td>5</td>\n",
       "      <td>13.29</td>\n",
       "      <td>0.376</td>\n",
       "      <td>0.138, 0.834</td>\n",
       "      <td>Statistically fewer infections</td>\n",
       "      <td>SIR Target (&lt;0.5) Met</td>\n",
       "      <td>51-55%</td>\n",
       "      <td>NaN</td>\n",
       "      <td>NaN</td>\n",
       "      <td>NaN</td>\n",
       "      <td>https://data.oregon.gov/views/4arj-uxbw/files/...</td>\n",
       "      <td>https://data.oregon.gov/views/4arj-uxbw/files/...</td>\n",
       "    </tr>\n",
       "  </tbody>\n",
       "</table>\n",
       "</div>"
      ],
      "text/plain": [
       "    Hospital Name                Hospital Location  Central Line Days  \\\n",
       "0   1. All Oregon      All Neonatal ICUs Combined*               7622   \n",
       "1   1. All Oregon  Pediatric Medical/Surgical ICUs               4431   \n",
       "\n",
       "   Observed Infections  Predicted Infections 2015 SIR    SIR 95% CI  \\\n",
       "0                   12                 16.04    0.748  0.405, 1.272   \n",
       "1                    5                 13.29    0.376  0.138, 0.834   \n",
       "\n",
       "  SIR Interpretation (2006-08 US baseline)       2013 HHS Targets  \\\n",
       "0                         Fewer infections         Target Not Met   \n",
       "1           Statistically fewer infections  SIR Target (<0.5) Met   \n",
       "\n",
       "  Percentile on 2014 National SIR Distribution County HPP Region Location 1  \\\n",
       "0                                       71-75%    NaN        NaN        NaN   \n",
       "1                                       51-55%    NaN        NaN        NaN   \n",
       "\n",
       "                                            SIR Icon  \\\n",
       "0  https://data.oregon.gov/views/4arj-uxbw/files/...   \n",
       "1  https://data.oregon.gov/views/4arj-uxbw/files/...   \n",
       "\n",
       "                                      Benchmark Icon  \n",
       "0                                                NaN  \n",
       "1  https://data.oregon.gov/views/4arj-uxbw/files/...  "
      ]
     },
     "execution_count": 41,
     "metadata": {},
     "output_type": "execute_result"
    }
   ],
   "source": [
    "import pandas as pd\n",
    "\n",
    "\n",
    "clabsi = pd.read_csv(\"Datasets/2015_Central_Line-Associated_Bloodstream_Infections__CLABSI__Table.csv\")\n",
    "\n",
    "clabsi.head(2)\n",
    "\n"
   ]
  },
  {
   "cell_type": "markdown",
   "metadata": {},
   "source": [
    " <h2><center> Data Cleaning </center></h2>\n",
    "                                                                           "
   ]
  },
  {
   "cell_type": "markdown",
   "metadata": {},
   "source": [
    "1. I dropped the columns that I do not need in this analysis.\n"
   ]
  },
  {
   "cell_type": "code",
   "execution_count": 42,
   "metadata": {},
   "outputs": [],
   "source": [
    "clabsi.drop([\"County\", \"SIR Icon\", \"Benchmark Icon\"], axis=1, inplace=True)"
   ]
  },
  {
   "cell_type": "code",
   "execution_count": 43,
   "metadata": {},
   "outputs": [
    {
     "data": {
      "text/html": [
       "<div>\n",
       "<style scoped>\n",
       "    .dataframe tbody tr th:only-of-type {\n",
       "        vertical-align: middle;\n",
       "    }\n",
       "\n",
       "    .dataframe tbody tr th {\n",
       "        vertical-align: top;\n",
       "    }\n",
       "\n",
       "    .dataframe thead th {\n",
       "        text-align: right;\n",
       "    }\n",
       "</style>\n",
       "<table border=\"1\" class=\"dataframe\">\n",
       "  <thead>\n",
       "    <tr style=\"text-align: right;\">\n",
       "      <th></th>\n",
       "      <th>Hospital Name</th>\n",
       "      <th>Hospital Location</th>\n",
       "      <th>Central Line Days</th>\n",
       "      <th>Observed Infections</th>\n",
       "      <th>Predicted Infections</th>\n",
       "      <th>2015 SIR</th>\n",
       "      <th>SIR 95% CI</th>\n",
       "      <th>SIR Interpretation (2006-08 US baseline)</th>\n",
       "      <th>2013 HHS Targets</th>\n",
       "      <th>Percentile on 2014 National SIR Distribution</th>\n",
       "      <th>HPP Region</th>\n",
       "      <th>Location 1</th>\n",
       "    </tr>\n",
       "  </thead>\n",
       "  <tbody>\n",
       "    <tr>\n",
       "      <th>0</th>\n",
       "      <td>1. All Oregon</td>\n",
       "      <td>All Neonatal ICUs Combined*</td>\n",
       "      <td>7622</td>\n",
       "      <td>12</td>\n",
       "      <td>16.04</td>\n",
       "      <td>0.748</td>\n",
       "      <td>0.405, 1.272</td>\n",
       "      <td>Fewer infections</td>\n",
       "      <td>Target Not Met</td>\n",
       "      <td>71-75%</td>\n",
       "      <td>NaN</td>\n",
       "      <td>NaN</td>\n",
       "    </tr>\n",
       "    <tr>\n",
       "      <th>1</th>\n",
       "      <td>1. All Oregon</td>\n",
       "      <td>Pediatric Medical/Surgical ICUs</td>\n",
       "      <td>4431</td>\n",
       "      <td>5</td>\n",
       "      <td>13.29</td>\n",
       "      <td>0.376</td>\n",
       "      <td>0.138, 0.834</td>\n",
       "      <td>Statistically fewer infections</td>\n",
       "      <td>SIR Target (&lt;0.5) Met</td>\n",
       "      <td>51-55%</td>\n",
       "      <td>NaN</td>\n",
       "      <td>NaN</td>\n",
       "    </tr>\n",
       "  </tbody>\n",
       "</table>\n",
       "</div>"
      ],
      "text/plain": [
       "    Hospital Name                Hospital Location  Central Line Days  \\\n",
       "0   1. All Oregon      All Neonatal ICUs Combined*               7622   \n",
       "1   1. All Oregon  Pediatric Medical/Surgical ICUs               4431   \n",
       "\n",
       "   Observed Infections  Predicted Infections 2015 SIR    SIR 95% CI  \\\n",
       "0                   12                 16.04    0.748  0.405, 1.272   \n",
       "1                    5                 13.29    0.376  0.138, 0.834   \n",
       "\n",
       "  SIR Interpretation (2006-08 US baseline)       2013 HHS Targets  \\\n",
       "0                         Fewer infections         Target Not Met   \n",
       "1           Statistically fewer infections  SIR Target (<0.5) Met   \n",
       "\n",
       "  Percentile on 2014 National SIR Distribution HPP Region Location 1  \n",
       "0                                       71-75%        NaN        NaN  \n",
       "1                                       51-55%        NaN        NaN  "
      ]
     },
     "execution_count": 43,
     "metadata": {},
     "output_type": "execute_result"
    }
   ],
   "source": [
    "clabsi.head(2)"
   ]
  },
  {
   "cell_type": "raw",
   "metadata": {},
   "source": [
    "\n",
    "2. I renamed the column: \"2015 SIR\" as \"2015 Standard_Infection_Ratio,SIR\" to explain what \"SIR\" stands for."
   ]
  },
  {
   "cell_type": "code",
   "execution_count": 44,
   "metadata": {},
   "outputs": [
    {
     "data": {
      "text/html": [
       "<div>\n",
       "<style scoped>\n",
       "    .dataframe tbody tr th:only-of-type {\n",
       "        vertical-align: middle;\n",
       "    }\n",
       "\n",
       "    .dataframe tbody tr th {\n",
       "        vertical-align: top;\n",
       "    }\n",
       "\n",
       "    .dataframe thead th {\n",
       "        text-align: right;\n",
       "    }\n",
       "</style>\n",
       "<table border=\"1\" class=\"dataframe\">\n",
       "  <thead>\n",
       "    <tr style=\"text-align: right;\">\n",
       "      <th></th>\n",
       "      <th>Hospital Name</th>\n",
       "      <th>Hospital Location</th>\n",
       "      <th>Central Line Days</th>\n",
       "      <th>Observed Infections</th>\n",
       "      <th>Predicted Infections</th>\n",
       "      <th>2015 Standard_Infection_Ratio,SIR</th>\n",
       "      <th>SIR 95% CI</th>\n",
       "      <th>SIR Interpretation (2006-08 US baseline)</th>\n",
       "      <th>2013 HHS Targets</th>\n",
       "      <th>Percentile on 2014 National SIR Distribution</th>\n",
       "      <th>HPP Region</th>\n",
       "      <th>Location 1</th>\n",
       "    </tr>\n",
       "  </thead>\n",
       "  <tbody>\n",
       "    <tr>\n",
       "      <th>0</th>\n",
       "      <td>1. All Oregon</td>\n",
       "      <td>All Neonatal ICUs Combined*</td>\n",
       "      <td>7622</td>\n",
       "      <td>12</td>\n",
       "      <td>16.04</td>\n",
       "      <td>0.748</td>\n",
       "      <td>0.405, 1.272</td>\n",
       "      <td>Fewer infections</td>\n",
       "      <td>Target Not Met</td>\n",
       "      <td>71-75%</td>\n",
       "      <td>NaN</td>\n",
       "      <td>NaN</td>\n",
       "    </tr>\n",
       "    <tr>\n",
       "      <th>1</th>\n",
       "      <td>1. All Oregon</td>\n",
       "      <td>Pediatric Medical/Surgical ICUs</td>\n",
       "      <td>4431</td>\n",
       "      <td>5</td>\n",
       "      <td>13.29</td>\n",
       "      <td>0.376</td>\n",
       "      <td>0.138, 0.834</td>\n",
       "      <td>Statistically fewer infections</td>\n",
       "      <td>SIR Target (&lt;0.5) Met</td>\n",
       "      <td>51-55%</td>\n",
       "      <td>NaN</td>\n",
       "      <td>NaN</td>\n",
       "    </tr>\n",
       "    <tr>\n",
       "      <th>2</th>\n",
       "      <td>1. All Oregon</td>\n",
       "      <td>Adult Medical/Surgical ICUs</td>\n",
       "      <td>45068</td>\n",
       "      <td>26</td>\n",
       "      <td>76.28</td>\n",
       "      <td>0.341</td>\n",
       "      <td>0.227, 0.492</td>\n",
       "      <td>Statistically fewer infections</td>\n",
       "      <td>SIR Target (&lt;0.5) Met</td>\n",
       "      <td>46-50%</td>\n",
       "      <td>NaN</td>\n",
       "      <td>NaN</td>\n",
       "    </tr>\n",
       "    <tr>\n",
       "      <th>3</th>\n",
       "      <td>1. All Oregon</td>\n",
       "      <td>Adult Medical ICUs</td>\n",
       "      <td>4850</td>\n",
       "      <td>4</td>\n",
       "      <td>11.08</td>\n",
       "      <td>0.361</td>\n",
       "      <td>0.115, 0.871</td>\n",
       "      <td>Statistically fewer infections</td>\n",
       "      <td>SIR Target (&lt;0.5) Met</td>\n",
       "      <td>51-55%</td>\n",
       "      <td>NaN</td>\n",
       "      <td>NaN</td>\n",
       "    </tr>\n",
       "    <tr>\n",
       "      <th>4</th>\n",
       "      <td>1. All Oregon</td>\n",
       "      <td>Adult Cardiothoracic ICUs</td>\n",
       "      <td>8466</td>\n",
       "      <td>5</td>\n",
       "      <td>11.85</td>\n",
       "      <td>0.422</td>\n",
       "      <td>0.155, 0.935</td>\n",
       "      <td>Statistically fewer infections</td>\n",
       "      <td>SIR Target (&lt;0.5) Met</td>\n",
       "      <td>56-60%</td>\n",
       "      <td>NaN</td>\n",
       "      <td>NaN</td>\n",
       "    </tr>\n",
       "  </tbody>\n",
       "</table>\n",
       "</div>"
      ],
      "text/plain": [
       "    Hospital Name                Hospital Location  Central Line Days  \\\n",
       "0   1. All Oregon      All Neonatal ICUs Combined*               7622   \n",
       "1   1. All Oregon  Pediatric Medical/Surgical ICUs               4431   \n",
       "2   1. All Oregon      Adult Medical/Surgical ICUs              45068   \n",
       "3   1. All Oregon               Adult Medical ICUs               4850   \n",
       "4   1. All Oregon        Adult Cardiothoracic ICUs               8466   \n",
       "\n",
       "   Observed Infections  Predicted Infections  \\\n",
       "0                   12                 16.04   \n",
       "1                    5                 13.29   \n",
       "2                   26                 76.28   \n",
       "3                    4                 11.08   \n",
       "4                    5                 11.85   \n",
       "\n",
       "  2015 Standard_Infection_Ratio,SIR    SIR 95% CI  \\\n",
       "0                             0.748  0.405, 1.272   \n",
       "1                             0.376  0.138, 0.834   \n",
       "2                             0.341  0.227, 0.492   \n",
       "3                             0.361  0.115, 0.871   \n",
       "4                             0.422  0.155, 0.935   \n",
       "\n",
       "  SIR Interpretation (2006-08 US baseline)       2013 HHS Targets  \\\n",
       "0                         Fewer infections         Target Not Met   \n",
       "1           Statistically fewer infections  SIR Target (<0.5) Met   \n",
       "2           Statistically fewer infections  SIR Target (<0.5) Met   \n",
       "3           Statistically fewer infections  SIR Target (<0.5) Met   \n",
       "4           Statistically fewer infections  SIR Target (<0.5) Met   \n",
       "\n",
       "  Percentile on 2014 National SIR Distribution HPP Region Location 1  \n",
       "0                                       71-75%        NaN        NaN  \n",
       "1                                       51-55%        NaN        NaN  \n",
       "2                                       46-50%        NaN        NaN  \n",
       "3                                       51-55%        NaN        NaN  \n",
       "4                                       56-60%        NaN        NaN  "
      ]
     },
     "execution_count": 44,
     "metadata": {},
     "output_type": "execute_result"
    }
   ],
   "source": [
    "clabsi.rename(columns={\"2015 SIR\":\"2015 Standard_Infection_Ratio,SIR\"}, inplace=True)\n",
    "clabsi.head()"
   ]
  },
  {
   "cell_type": "code",
   "execution_count": 45,
   "metadata": {},
   "outputs": [
    {
     "data": {
      "text/html": [
       "<div>\n",
       "<style scoped>\n",
       "    .dataframe tbody tr th:only-of-type {\n",
       "        vertical-align: middle;\n",
       "    }\n",
       "\n",
       "    .dataframe tbody tr th {\n",
       "        vertical-align: top;\n",
       "    }\n",
       "\n",
       "    .dataframe thead th {\n",
       "        text-align: right;\n",
       "    }\n",
       "</style>\n",
       "<table border=\"1\" class=\"dataframe\">\n",
       "  <thead>\n",
       "    <tr style=\"text-align: right;\">\n",
       "      <th></th>\n",
       "      <th>Hospital_Name</th>\n",
       "      <th>Hospital_Location</th>\n",
       "      <th>Central_Line_Days</th>\n",
       "      <th>Observed_Infections</th>\n",
       "      <th>Predicted_Infections</th>\n",
       "      <th>2015_Standard_Infection_Ratio,SIR</th>\n",
       "      <th>SIR_95%_CI</th>\n",
       "      <th>SIR_Interpretation_(2006-08_US_baseline)</th>\n",
       "      <th>2013_HHS_Targets</th>\n",
       "      <th>Percentile_on_2014_National_SIR_Distribution</th>\n",
       "      <th>HPP_Region</th>\n",
       "      <th>Location_1</th>\n",
       "    </tr>\n",
       "  </thead>\n",
       "  <tbody>\n",
       "    <tr>\n",
       "      <th>0</th>\n",
       "      <td>1. All Oregon</td>\n",
       "      <td>All Neonatal ICUs Combined*</td>\n",
       "      <td>7622</td>\n",
       "      <td>12</td>\n",
       "      <td>16.04</td>\n",
       "      <td>0.748</td>\n",
       "      <td>0.405, 1.272</td>\n",
       "      <td>Fewer infections</td>\n",
       "      <td>Target Not Met</td>\n",
       "      <td>71-75%</td>\n",
       "      <td>NaN</td>\n",
       "      <td>NaN</td>\n",
       "    </tr>\n",
       "    <tr>\n",
       "      <th>1</th>\n",
       "      <td>1. All Oregon</td>\n",
       "      <td>Pediatric Medical/Surgical ICUs</td>\n",
       "      <td>4431</td>\n",
       "      <td>5</td>\n",
       "      <td>13.29</td>\n",
       "      <td>0.376</td>\n",
       "      <td>0.138, 0.834</td>\n",
       "      <td>Statistically fewer infections</td>\n",
       "      <td>SIR Target (&lt;0.5) Met</td>\n",
       "      <td>51-55%</td>\n",
       "      <td>NaN</td>\n",
       "      <td>NaN</td>\n",
       "    </tr>\n",
       "  </tbody>\n",
       "</table>\n",
       "</div>"
      ],
      "text/plain": [
       "    Hospital_Name                Hospital_Location  Central_Line_Days  \\\n",
       "0   1. All Oregon      All Neonatal ICUs Combined*               7622   \n",
       "1   1. All Oregon  Pediatric Medical/Surgical ICUs               4431   \n",
       "\n",
       "   Observed_Infections  Predicted_Infections  \\\n",
       "0                   12                 16.04   \n",
       "1                    5                 13.29   \n",
       "\n",
       "  2015_Standard_Infection_Ratio,SIR    SIR_95%_CI  \\\n",
       "0                             0.748  0.405, 1.272   \n",
       "1                             0.376  0.138, 0.834   \n",
       "\n",
       "  SIR_Interpretation_(2006-08_US_baseline)       2013_HHS_Targets  \\\n",
       "0                         Fewer infections         Target Not Met   \n",
       "1           Statistically fewer infections  SIR Target (<0.5) Met   \n",
       "\n",
       "  Percentile_on_2014_National_SIR_Distribution HPP_Region Location_1  \n",
       "0                                       71-75%        NaN        NaN  \n",
       "1                                       51-55%        NaN        NaN  "
      ]
     },
     "execution_count": 45,
     "metadata": {},
     "output_type": "execute_result"
    }
   ],
   "source": [
    "clabsi.columns = clabsi.columns.str.replace(' ', '_')\n",
    "clabsi.head(2)"
   ]
  },
  {
   "cell_type": "markdown",
   "metadata": {},
   "source": [
    "<h2><center> Summary and Type of Data </center></h2>\n",
    "                                                                        \n",
    "The code below shows a summary of the dataset, as well as the size and typr=e of data."
   ]
  },
  {
   "cell_type": "code",
   "execution_count": 46,
   "metadata": {},
   "outputs": [
    {
     "name": "stdout",
     "output_type": "stream",
     "text": [
      "<class 'pandas.core.frame.DataFrame'>\n",
      "RangeIndex: 219 entries, 0 to 218\n",
      "Data columns (total 12 columns):\n",
      "Hospital_Name                                   219 non-null object\n",
      "Hospital_Location                               219 non-null object\n",
      "Central_Line_Days                               219 non-null int64\n",
      "Observed_Infections                             219 non-null int64\n",
      "Predicted_Infections                            219 non-null float64\n",
      "2015_Standard_Infection_Ratio,SIR               219 non-null object\n",
      "SIR_95%_CI                                      217 non-null object\n",
      "SIR_Interpretation_(2006-08_US_baseline)        219 non-null object\n",
      "2013_HHS_Targets                                196 non-null object\n",
      "Percentile_on_2014_National_SIR_Distribution    218 non-null object\n",
      "HPP_Region                                      203 non-null object\n",
      "Location_1                                      203 non-null object\n",
      "dtypes: float64(1), int64(2), object(9)\n",
      "memory usage: 20.6+ KB\n"
     ]
    }
   ],
   "source": [
    "clabsi.info()"
   ]
  },
  {
   "cell_type": "markdown",
   "metadata": {},
   "source": [
    "<h2><center> Summary of Statistical Informatiion </center></h2>"
   ]
  },
  {
   "cell_type": "code",
   "execution_count": 47,
   "metadata": {},
   "outputs": [
    {
     "data": {
      "text/html": [
       "<div>\n",
       "<style scoped>\n",
       "    .dataframe tbody tr th:only-of-type {\n",
       "        vertical-align: middle;\n",
       "    }\n",
       "\n",
       "    .dataframe tbody tr th {\n",
       "        vertical-align: top;\n",
       "    }\n",
       "\n",
       "    .dataframe thead th {\n",
       "        text-align: right;\n",
       "    }\n",
       "</style>\n",
       "<table border=\"1\" class=\"dataframe\">\n",
       "  <thead>\n",
       "    <tr style=\"text-align: right;\">\n",
       "      <th></th>\n",
       "      <th>Central_Line_Days</th>\n",
       "      <th>Observed_Infections</th>\n",
       "      <th>Predicted_Infections</th>\n",
       "    </tr>\n",
       "  </thead>\n",
       "  <tbody>\n",
       "    <tr>\n",
       "      <th>count</th>\n",
       "      <td>219.000000</td>\n",
       "      <td>219.000000</td>\n",
       "      <td>219.000000</td>\n",
       "    </tr>\n",
       "    <tr>\n",
       "      <th>mean</th>\n",
       "      <td>3109.570776</td>\n",
       "      <td>2.383562</td>\n",
       "      <td>5.277443</td>\n",
       "    </tr>\n",
       "    <tr>\n",
       "      <th>std</th>\n",
       "      <td>11924.243042</td>\n",
       "      <td>8.774907</td>\n",
       "      <td>20.080048</td>\n",
       "    </tr>\n",
       "    <tr>\n",
       "      <th>min</th>\n",
       "      <td>0.000000</td>\n",
       "      <td>0.000000</td>\n",
       "      <td>0.000000</td>\n",
       "    </tr>\n",
       "    <tr>\n",
       "      <th>25%</th>\n",
       "      <td>198.000000</td>\n",
       "      <td>0.000000</td>\n",
       "      <td>0.275000</td>\n",
       "    </tr>\n",
       "    <tr>\n",
       "      <th>50%</th>\n",
       "      <td>939.000000</td>\n",
       "      <td>1.000000</td>\n",
       "      <td>1.310000</td>\n",
       "    </tr>\n",
       "    <tr>\n",
       "      <th>75%</th>\n",
       "      <td>2300.000000</td>\n",
       "      <td>2.000000</td>\n",
       "      <td>3.810000</td>\n",
       "    </tr>\n",
       "    <tr>\n",
       "      <th>max</th>\n",
       "      <td>161715.000000</td>\n",
       "      <td>118.000000</td>\n",
       "      <td>271.590000</td>\n",
       "    </tr>\n",
       "  </tbody>\n",
       "</table>\n",
       "</div>"
      ],
      "text/plain": [
       "       Central_Line_Days  Observed_Infections  Predicted_Infections\n",
       "count         219.000000           219.000000            219.000000\n",
       "mean         3109.570776             2.383562              5.277443\n",
       "std         11924.243042             8.774907             20.080048\n",
       "min             0.000000             0.000000              0.000000\n",
       "25%           198.000000             0.000000              0.275000\n",
       "50%           939.000000             1.000000              1.310000\n",
       "75%          2300.000000             2.000000              3.810000\n",
       "max        161715.000000           118.000000            271.590000"
      ]
     },
     "execution_count": 47,
     "metadata": {},
     "output_type": "execute_result"
    }
   ],
   "source": [
    "clabsi.describe()"
   ]
  },
  {
   "cell_type": "markdown",
   "metadata": {},
   "source": [
    "                                                                       \n",
    " <h2><center> Data Visualization </center></h2>\n",
    "\n"
   ]
  },
  {
   "cell_type": "code",
   "execution_count": 48,
   "metadata": {},
   "outputs": [],
   "source": [
    "import  seaborn as sns"
   ]
  },
  {
   "cell_type": "code",
   "execution_count": 49,
   "metadata": {},
   "outputs": [
    {
     "data": {
      "image/png": "[encoded data removed]",
      "text/plain": [
       "<Figure size 432x288 with 1 Axes>"
      ]
     },
     "metadata": {
      "needs_background": "light"
     },
     "output_type": "display_data"
    }
   ],
   "source": [
    "dv = sns.barplot(\"Central_Line_Days\", \"Observed_Infections\", data=clabsi).set_title(\"IV & Ind\")"
   ]
  },
  {
   "cell_type": "markdown",
   "metadata": {},
   "source": [
    "The bar chart above shows a positive relationship beteween the days of central line, and the observed infections.\n"
   ]
  },
  {
   "cell_type": "code",
   "execution_count": 50,
   "metadata": {},
   "outputs": [
    {
     "data": {
      "text/plain": [
       "Text(0, 0.5, 'number of observations')"
      ]
     },
     "execution_count": 50,
     "metadata": {},
     "output_type": "execute_result"
    },
    {
     "data": {
      "image/png": "[encoded data removed]",
      "text/plain": [
       "<Figure size 432x288 with 1 Axes>"
      ]
     },
     "metadata": {
      "needs_background": "light"
     },
     "output_type": "display_data"
    }
   ],
   "source": [
    "import matplotlib.pyplot as plt\n",
    "%matplotlib inline\n",
    "plt.hist(clabsi.Central_Line_Days)\n",
    "plt.title(\"Distribution of Observation\")\n",
    "plt.xlabel(\"CLD\")\n",
    "plt.ylabel(\"number of observations\")"
   ]
  },
  {
   "cell_type": "markdown",
   "metadata": {},
   "source": [
    "This histogram charts shows that most of the cases has central line days (CLD) of less than 20000  "
   ]
  },
  {
   "cell_type": "code",
   "execution_count": 51,
   "metadata": {},
   "outputs": [
    {
     "data": {
      "image/png": "[encoded data removed]",
      "text/plain": [
       "<Figure size 432x288 with 1 Axes>"
      ]
     },
     "metadata": {
      "needs_background": "light"
     },
     "output_type": "display_data"
    }
   ],
   "source": [
    "plt.title('Scatter plot of CLD and Predicted Observations')\n",
    "plt.xlabel(\"Observed_Infections\")\n",
    "plt.ylabel(\"Predicted_Infections\")\n",
    "plt.scatter(\"Observed_Infections\", \"Predicted_Infections\")\n",
    "plt.show()"
   ]
  },
  {
   "cell_type": "markdown",
   "metadata": {},
   "source": [
    "Igor's changesstart here"
   ]
  },
  {
   "cell_type": "code",
   "execution_count": 56,
   "metadata": {},
   "outputs": [
    {
     "data": {
      "text/html": [
       "<div>\n",
       "<style scoped>\n",
       "    .dataframe tbody tr th:only-of-type {\n",
       "        vertical-align: middle;\n",
       "    }\n",
       "\n",
       "    .dataframe tbody tr th {\n",
       "        vertical-align: top;\n",
       "    }\n",
       "\n",
       "    .dataframe thead th {\n",
       "        text-align: right;\n",
       "    }\n",
       "</style>\n",
       "<table border=\"1\" class=\"dataframe\">\n",
       "  <thead>\n",
       "    <tr style=\"text-align: right;\">\n",
       "      <th></th>\n",
       "    </tr>\n",
       "  </thead>\n",
       "  <tbody>\n",
       "    <tr>\n",
       "      <th>0</th>\n",
       "    </tr>\n",
       "    <tr>\n",
       "      <th>1</th>\n",
       "    </tr>\n",
       "    <tr>\n",
       "      <th>2</th>\n",
       "    </tr>\n",
       "    <tr>\n",
       "      <th>3</th>\n",
       "    </tr>\n",
       "    <tr>\n",
       "      <th>4</th>\n",
       "    </tr>\n",
       "    <tr>\n",
       "      <th>5</th>\n",
       "    </tr>\n",
       "    <tr>\n",
       "      <th>6</th>\n",
       "    </tr>\n",
       "    <tr>\n",
       "      <th>7</th>\n",
       "    </tr>\n",
       "    <tr>\n",
       "      <th>8</th>\n",
       "    </tr>\n",
       "    <tr>\n",
       "      <th>9</th>\n",
       "    </tr>\n",
       "    <tr>\n",
       "      <th>10</th>\n",
       "    </tr>\n",
       "    <tr>\n",
       "      <th>11</th>\n",
       "    </tr>\n",
       "    <tr>\n",
       "      <th>12</th>\n",
       "    </tr>\n",
       "    <tr>\n",
       "      <th>13</th>\n",
       "    </tr>\n",
       "    <tr>\n",
       "      <th>14</th>\n",
       "    </tr>\n",
       "    <tr>\n",
       "      <th>15</th>\n",
       "    </tr>\n",
       "    <tr>\n",
       "      <th>16</th>\n",
       "    </tr>\n",
       "    <tr>\n",
       "      <th>17</th>\n",
       "    </tr>\n",
       "    <tr>\n",
       "      <th>18</th>\n",
       "    </tr>\n",
       "    <tr>\n",
       "      <th>19</th>\n",
       "    </tr>\n",
       "    <tr>\n",
       "      <th>20</th>\n",
       "    </tr>\n",
       "    <tr>\n",
       "      <th>21</th>\n",
       "    </tr>\n",
       "    <tr>\n",
       "      <th>22</th>\n",
       "    </tr>\n",
       "    <tr>\n",
       "      <th>23</th>\n",
       "    </tr>\n",
       "    <tr>\n",
       "      <th>24</th>\n",
       "    </tr>\n",
       "    <tr>\n",
       "      <th>25</th>\n",
       "    </tr>\n",
       "    <tr>\n",
       "      <th>26</th>\n",
       "    </tr>\n",
       "    <tr>\n",
       "      <th>27</th>\n",
       "    </tr>\n",
       "    <tr>\n",
       "      <th>28</th>\n",
       "    </tr>\n",
       "    <tr>\n",
       "      <th>29</th>\n",
       "    </tr>\n",
       "    <tr>\n",
       "      <th>...</th>\n",
       "    </tr>\n",
       "    <tr>\n",
       "      <th>189</th>\n",
       "    </tr>\n",
       "    <tr>\n",
       "      <th>190</th>\n",
       "    </tr>\n",
       "    <tr>\n",
       "      <th>191</th>\n",
       "    </tr>\n",
       "    <tr>\n",
       "      <th>192</th>\n",
       "    </tr>\n",
       "    <tr>\n",
       "      <th>193</th>\n",
       "    </tr>\n",
       "    <tr>\n",
       "      <th>194</th>\n",
       "    </tr>\n",
       "    <tr>\n",
       "      <th>195</th>\n",
       "    </tr>\n",
       "    <tr>\n",
       "      <th>196</th>\n",
       "    </tr>\n",
       "    <tr>\n",
       "      <th>197</th>\n",
       "    </tr>\n",
       "    <tr>\n",
       "      <th>198</th>\n",
       "    </tr>\n",
       "    <tr>\n",
       "      <th>199</th>\n",
       "    </tr>\n",
       "    <tr>\n",
       "      <th>200</th>\n",
       "    </tr>\n",
       "    <tr>\n",
       "      <th>201</th>\n",
       "    </tr>\n",
       "    <tr>\n",
       "      <th>202</th>\n",
       "    </tr>\n",
       "    <tr>\n",
       "      <th>203</th>\n",
       "    </tr>\n",
       "    <tr>\n",
       "      <th>204</th>\n",
       "    </tr>\n",
       "    <tr>\n",
       "      <th>205</th>\n",
       "    </tr>\n",
       "    <tr>\n",
       "      <th>206</th>\n",
       "    </tr>\n",
       "    <tr>\n",
       "      <th>207</th>\n",
       "    </tr>\n",
       "    <tr>\n",
       "      <th>208</th>\n",
       "    </tr>\n",
       "    <tr>\n",
       "      <th>209</th>\n",
       "    </tr>\n",
       "    <tr>\n",
       "      <th>210</th>\n",
       "    </tr>\n",
       "    <tr>\n",
       "      <th>211</th>\n",
       "    </tr>\n",
       "    <tr>\n",
       "      <th>212</th>\n",
       "    </tr>\n",
       "    <tr>\n",
       "      <th>213</th>\n",
       "    </tr>\n",
       "    <tr>\n",
       "      <th>214</th>\n",
       "    </tr>\n",
       "    <tr>\n",
       "      <th>215</th>\n",
       "    </tr>\n",
       "    <tr>\n",
       "      <th>216</th>\n",
       "    </tr>\n",
       "    <tr>\n",
       "      <th>217</th>\n",
       "    </tr>\n",
       "    <tr>\n",
       "      <th>218</th>\n",
       "    </tr>\n",
       "  </tbody>\n",
       "</table>\n",
       "<p>219 rows × 0 columns</p>\n",
       "</div>"
      ],
      "text/plain": [
       "Empty DataFrame\n",
       "Columns: []\n",
       "Index: [0, 1, 2, 3, 4, 5, 6, 7, 8, 9, 10, 11, 12, 13, 14, 15, 16, 17, 18, 19, 20, 21, 22, 23, 24, 25, 26, 27, 28, 29, 30, 31, 32, 33, 34, 35, 36, 37, 38, 39, 40, 41, 42, 43, 44, 45, 46, 47, 48, 49, 50, 51, 52, 53, 54, 55, 56, 57, 58, 59, 60, 61, 62, 63, 64, 65, 66, 67, 68, 69, 70, 71, 72, 73, 74, 75, 76, 77, 78, 79, 80, 81, 82, 83, 84, 85, 86, 87, 88, 89, 90, 91, 92, 93, 94, 95, 96, 97, 98, 99, ...]\n",
       "\n",
       "[219 rows x 0 columns]"
      ]
     },
     "execution_count": 56,
     "metadata": {},
     "output_type": "execute_result"
    }
   ],
   "source": [
    "clabsi.columns\n",
    "numeric_vals = clabsi.filter(regex='(Central_Line_Days,Observed_Infections, Predicted_Infections)', axis= 'columns')\n",
    "numeric_vals\n",
    "#less_freq= less_freq_.groupby(level='mmwr_week').sum() # 'reporting_area','mmwr_year'\n",
    "#sns.pairplot(less_freq, height=5);\n",
    "#ds = clabsi.loc['Central_Line_Days',\n",
    "#       'Observed_Infections', 'Predicted_Infections']"
   ]
  },
  {
   "cell_type": "code",
   "execution_count": null,
   "metadata": {},
   "outputs": [],
   "source": []
  }
 ],
 "metadata": {
  "kernelspec": {
   "display_name": "Python 3",
   "language": "python",
   "name": "python3"
  },
  "language_info": {
   "codemirror_mode": {
    "name": "ipython",
    "version": 3
   },
   "file_extension": ".py",
   "mimetype": "text/x-python",
   "name": "python",
   "nbconvert_exporter": "python",
   "pygments_lexer": "ipython3",
   "version": "3.7.2"
  }
 },
 "nbformat": 4,
 "nbformat_minor": 2
}
