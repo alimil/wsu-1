{
 "cells": [
  {
   "cell_type": "markdown",
   "metadata": {},
   "source": [
    "<h1><center> Assignment 1: Analyzing Dataset </center></h1>\n",
    "\n",
    "#### Submitted by: Ali Milhem\n",
    "#### Submission Date: February 06/2019\n",
    "#### Dataset: 2015 Central Line-Associated Bloodstream Infections (CLABSI) Table\n",
    "#### Link to the Dataset: https://healthdata.gov/dataset/2015-central-line-associated-bloodstream-infections-clabsi-table\n",
    "\n",
    "        "
   ]
  },
  {
   "cell_type": "markdown",
   "metadata": {},
   "source": [
    "                                                                      \n",
    "<h2><center> Reading The Datafile </center></h2> \n",
    "I used Panda API to read the csv files shown in the below code: \n"
   ]
  },
  {
   "cell_type": "code",
   "execution_count": 15,
   "metadata": {},
   "outputs": [
    {
     "name": "stdout",
     "output_type": "stream",
     "text": [
      "Requirement already satisfied: sodapy in /Users/iostaptchenko/projects/secret/wsu/ds/lib/python3.7/site-packages (1.5.0)\n",
      "Requirement already satisfied: requests>=2.20.0 in /Users/iostaptchenko/projects/secret/wsu/ds/lib/python3.7/site-packages (from sodapy) (2.21.0)\n",
      "Requirement already satisfied: future>=0.17.1 in /Users/iostaptchenko/projects/secret/wsu/ds/lib/python3.7/site-packages (from sodapy) (0.17.1)\n",
      "Requirement already satisfied: urllib3<1.25,>=1.21.1 in /Users/iostaptchenko/projects/secret/wsu/ds/lib/python3.7/site-packages (from requests>=2.20.0->sodapy) (1.24.1)\n",
      "Requirement already satisfied: certifi>=2017.4.17 in /Users/iostaptchenko/projects/secret/wsu/ds/lib/python3.7/site-packages (from requests>=2.20.0->sodapy) (2018.11.29)\n",
      "Requirement already satisfied: chardet<3.1.0,>=3.0.2 in /Users/iostaptchenko/projects/secret/wsu/ds/lib/python3.7/site-packages (from requests>=2.20.0->sodapy) (3.0.4)\n",
      "Requirement already satisfied: idna<2.9,>=2.5 in /Users/iostaptchenko/projects/secret/wsu/ds/lib/python3.7/site-packages (from requests>=2.20.0->sodapy) (2.8)\n"
     ]
    },
    {
     "name": "stderr",
     "output_type": "stream",
     "text": [
      "WARNING:root:Requests made without an app_token will be subject to strict throttling limits.\n"
     ]
    },
    {
     "ename": "SSLError",
     "evalue": "HTTPSConnectionPool(host='data.cdc.gov', port=443): Max retries exceeded with url: /resource/4arj-uxbw.json (Caused by SSLError(SSLCertVerificationError(1, '[SSL: CERTIFICATE_VERIFY_FAILED] certificate verify failed: self signed certificate in certificate chain (_ssl.c:1056)')))",
     "output_type": "error",
     "traceback": [
      "\u001b[0;31m---------------------------------------------------------------------------\u001b[0m",
      "\u001b[0;31mSSLCertVerificationError\u001b[0m                  Traceback (most recent call last)",
      "\u001b[0;32m~/projects/secret/wsu/ds/lib/python3.7/site-packages/urllib3/connectionpool.py\u001b[0m in \u001b[0;36murlopen\u001b[0;34m(self, method, url, body, headers, retries, redirect, assert_same_host, timeout, pool_timeout, release_conn, chunked, body_pos, **response_kw)\u001b[0m\n\u001b[1;32m    599\u001b[0m                                                   \u001b[0mbody\u001b[0m\u001b[0;34m=\u001b[0m\u001b[0mbody\u001b[0m\u001b[0;34m,\u001b[0m \u001b[0mheaders\u001b[0m\u001b[0;34m=\u001b[0m\u001b[0mheaders\u001b[0m\u001b[0;34m,\u001b[0m\u001b[0;34m\u001b[0m\u001b[0;34m\u001b[0m\u001b[0m\n\u001b[0;32m--> 600\u001b[0;31m                                                   chunked=chunked)\n\u001b[0m\u001b[1;32m    601\u001b[0m \u001b[0;34m\u001b[0m\u001b[0m\n",
      "\u001b[0;32m~/projects/secret/wsu/ds/lib/python3.7/site-packages/urllib3/connectionpool.py\u001b[0m in \u001b[0;36m_make_request\u001b[0;34m(self, conn, method, url, timeout, chunked, **httplib_request_kw)\u001b[0m\n\u001b[1;32m    342\u001b[0m         \u001b[0;32mtry\u001b[0m\u001b[0;34m:\u001b[0m\u001b[0;34m\u001b[0m\u001b[0;34m\u001b[0m\u001b[0m\n\u001b[0;32m--> 343\u001b[0;31m             \u001b[0mself\u001b[0m\u001b[0;34m.\u001b[0m\u001b[0m_validate_conn\u001b[0m\u001b[0;34m(\u001b[0m\u001b[0mconn\u001b[0m\u001b[0;34m)\u001b[0m\u001b[0;34m\u001b[0m\u001b[0;34m\u001b[0m\u001b[0m\n\u001b[0m\u001b[1;32m    344\u001b[0m         \u001b[0;32mexcept\u001b[0m \u001b[0;34m(\u001b[0m\u001b[0mSocketTimeout\u001b[0m\u001b[0;34m,\u001b[0m \u001b[0mBaseSSLError\u001b[0m\u001b[0;34m)\u001b[0m \u001b[0;32mas\u001b[0m \u001b[0me\u001b[0m\u001b[0;34m:\u001b[0m\u001b[0;34m\u001b[0m\u001b[0;34m\u001b[0m\u001b[0m\n",
      "\u001b[0;32m~/projects/secret/wsu/ds/lib/python3.7/site-packages/urllib3/connectionpool.py\u001b[0m in \u001b[0;36m_validate_conn\u001b[0;34m(self, conn)\u001b[0m\n\u001b[1;32m    838\u001b[0m         \u001b[0;32mif\u001b[0m \u001b[0;32mnot\u001b[0m \u001b[0mgetattr\u001b[0m\u001b[0;34m(\u001b[0m\u001b[0mconn\u001b[0m\u001b[0;34m,\u001b[0m \u001b[0;34m'sock'\u001b[0m\u001b[0;34m,\u001b[0m \u001b[0;32mNone\u001b[0m\u001b[0;34m)\u001b[0m\u001b[0;34m:\u001b[0m  \u001b[0;31m# AppEngine might not have  `.sock`\u001b[0m\u001b[0;34m\u001b[0m\u001b[0;34m\u001b[0m\u001b[0m\n\u001b[0;32m--> 839\u001b[0;31m             \u001b[0mconn\u001b[0m\u001b[0;34m.\u001b[0m\u001b[0mconnect\u001b[0m\u001b[0;34m(\u001b[0m\u001b[0;34m)\u001b[0m\u001b[0;34m\u001b[0m\u001b[0;34m\u001b[0m\u001b[0m\n\u001b[0m\u001b[1;32m    840\u001b[0m \u001b[0;34m\u001b[0m\u001b[0m\n",
      "\u001b[0;32m~/projects/secret/wsu/ds/lib/python3.7/site-packages/urllib3/connection.py\u001b[0m in \u001b[0;36mconnect\u001b[0;34m(self)\u001b[0m\n\u001b[1;32m    343\u001b[0m             \u001b[0mserver_hostname\u001b[0m\u001b[0;34m=\u001b[0m\u001b[0mserver_hostname\u001b[0m\u001b[0;34m,\u001b[0m\u001b[0;34m\u001b[0m\u001b[0;34m\u001b[0m\u001b[0m\n\u001b[0;32m--> 344\u001b[0;31m             ssl_context=context)\n\u001b[0m\u001b[1;32m    345\u001b[0m \u001b[0;34m\u001b[0m\u001b[0m\n",
      "\u001b[0;32m~/projects/secret/wsu/ds/lib/python3.7/site-packages/urllib3/util/ssl_.py\u001b[0m in \u001b[0;36mssl_wrap_socket\u001b[0;34m(sock, keyfile, certfile, cert_reqs, ca_certs, server_hostname, ssl_version, ciphers, ssl_context, ca_cert_dir)\u001b[0m\n\u001b[1;32m    343\u001b[0m         \u001b[0;32mif\u001b[0m \u001b[0mHAS_SNI\u001b[0m \u001b[0;32mand\u001b[0m \u001b[0mserver_hostname\u001b[0m \u001b[0;32mis\u001b[0m \u001b[0;32mnot\u001b[0m \u001b[0;32mNone\u001b[0m\u001b[0;34m:\u001b[0m\u001b[0;34m\u001b[0m\u001b[0;34m\u001b[0m\u001b[0m\n\u001b[0;32m--> 344\u001b[0;31m             \u001b[0;32mreturn\u001b[0m \u001b[0mcontext\u001b[0m\u001b[0;34m.\u001b[0m\u001b[0mwrap_socket\u001b[0m\u001b[0;34m(\u001b[0m\u001b[0msock\u001b[0m\u001b[0;34m,\u001b[0m \u001b[0mserver_hostname\u001b[0m\u001b[0;34m=\u001b[0m\u001b[0mserver_hostname\u001b[0m\u001b[0;34m)\u001b[0m\u001b[0;34m\u001b[0m\u001b[0;34m\u001b[0m\u001b[0m\n\u001b[0m\u001b[1;32m    345\u001b[0m \u001b[0;34m\u001b[0m\u001b[0m\n",
      "\u001b[0;32m/usr/local/Cellar/python/3.7.2_1/Frameworks/Python.framework/Versions/3.7/lib/python3.7/ssl.py\u001b[0m in \u001b[0;36mwrap_socket\u001b[0;34m(self, sock, server_side, do_handshake_on_connect, suppress_ragged_eofs, server_hostname, session)\u001b[0m\n\u001b[1;32m    411\u001b[0m             \u001b[0mcontext\u001b[0m\u001b[0;34m=\u001b[0m\u001b[0mself\u001b[0m\u001b[0;34m,\u001b[0m\u001b[0;34m\u001b[0m\u001b[0;34m\u001b[0m\u001b[0m\n\u001b[0;32m--> 412\u001b[0;31m             \u001b[0msession\u001b[0m\u001b[0;34m=\u001b[0m\u001b[0msession\u001b[0m\u001b[0;34m\u001b[0m\u001b[0;34m\u001b[0m\u001b[0m\n\u001b[0m\u001b[1;32m    413\u001b[0m         )\n",
      "\u001b[0;32m/usr/local/Cellar/python/3.7.2_1/Frameworks/Python.framework/Versions/3.7/lib/python3.7/ssl.py\u001b[0m in \u001b[0;36m_create\u001b[0;34m(cls, sock, server_side, do_handshake_on_connect, suppress_ragged_eofs, server_hostname, context, session)\u001b[0m\n\u001b[1;32m    852\u001b[0m                         \u001b[0;32mraise\u001b[0m \u001b[0mValueError\u001b[0m\u001b[0;34m(\u001b[0m\u001b[0;34m\"do_handshake_on_connect should not be specified for non-blocking sockets\"\u001b[0m\u001b[0;34m)\u001b[0m\u001b[0;34m\u001b[0m\u001b[0;34m\u001b[0m\u001b[0m\n\u001b[0;32m--> 853\u001b[0;31m                     \u001b[0mself\u001b[0m\u001b[0;34m.\u001b[0m\u001b[0mdo_handshake\u001b[0m\u001b[0;34m(\u001b[0m\u001b[0;34m)\u001b[0m\u001b[0;34m\u001b[0m\u001b[0;34m\u001b[0m\u001b[0m\n\u001b[0m\u001b[1;32m    854\u001b[0m             \u001b[0;32mexcept\u001b[0m \u001b[0;34m(\u001b[0m\u001b[0mOSError\u001b[0m\u001b[0;34m,\u001b[0m \u001b[0mValueError\u001b[0m\u001b[0;34m)\u001b[0m\u001b[0;34m:\u001b[0m\u001b[0;34m\u001b[0m\u001b[0;34m\u001b[0m\u001b[0m\n",
      "\u001b[0;32m/usr/local/Cellar/python/3.7.2_1/Frameworks/Python.framework/Versions/3.7/lib/python3.7/ssl.py\u001b[0m in \u001b[0;36mdo_handshake\u001b[0;34m(self, block)\u001b[0m\n\u001b[1;32m   1116\u001b[0m                 \u001b[0mself\u001b[0m\u001b[0;34m.\u001b[0m\u001b[0msettimeout\u001b[0m\u001b[0;34m(\u001b[0m\u001b[0;32mNone\u001b[0m\u001b[0;34m)\u001b[0m\u001b[0;34m\u001b[0m\u001b[0;34m\u001b[0m\u001b[0m\n\u001b[0;32m-> 1117\u001b[0;31m             \u001b[0mself\u001b[0m\u001b[0;34m.\u001b[0m\u001b[0m_sslobj\u001b[0m\u001b[0;34m.\u001b[0m\u001b[0mdo_handshake\u001b[0m\u001b[0;34m(\u001b[0m\u001b[0;34m)\u001b[0m\u001b[0;34m\u001b[0m\u001b[0;34m\u001b[0m\u001b[0m\n\u001b[0m\u001b[1;32m   1118\u001b[0m         \u001b[0;32mfinally\u001b[0m\u001b[0;34m:\u001b[0m\u001b[0;34m\u001b[0m\u001b[0;34m\u001b[0m\u001b[0m\n",
      "\u001b[0;31mSSLCertVerificationError\u001b[0m: [SSL: CERTIFICATE_VERIFY_FAILED] certificate verify failed: self signed certificate in certificate chain (_ssl.c:1056)",
      "\nDuring handling of the above exception, another exception occurred:\n",
      "\u001b[0;31mMaxRetryError\u001b[0m                             Traceback (most recent call last)",
      "\u001b[0;32m~/projects/secret/wsu/ds/lib/python3.7/site-packages/requests/adapters.py\u001b[0m in \u001b[0;36msend\u001b[0;34m(self, request, stream, timeout, verify, cert, proxies)\u001b[0m\n\u001b[1;32m    448\u001b[0m                     \u001b[0mretries\u001b[0m\u001b[0;34m=\u001b[0m\u001b[0mself\u001b[0m\u001b[0;34m.\u001b[0m\u001b[0mmax_retries\u001b[0m\u001b[0;34m,\u001b[0m\u001b[0;34m\u001b[0m\u001b[0;34m\u001b[0m\u001b[0m\n\u001b[0;32m--> 449\u001b[0;31m                     \u001b[0mtimeout\u001b[0m\u001b[0;34m=\u001b[0m\u001b[0mtimeout\u001b[0m\u001b[0;34m\u001b[0m\u001b[0;34m\u001b[0m\u001b[0m\n\u001b[0m\u001b[1;32m    450\u001b[0m                 )\n",
      "\u001b[0;32m~/projects/secret/wsu/ds/lib/python3.7/site-packages/urllib3/connectionpool.py\u001b[0m in \u001b[0;36murlopen\u001b[0;34m(self, method, url, body, headers, retries, redirect, assert_same_host, timeout, pool_timeout, release_conn, chunked, body_pos, **response_kw)\u001b[0m\n\u001b[1;32m    637\u001b[0m             retries = retries.increment(method, url, error=e, _pool=self,\n\u001b[0;32m--> 638\u001b[0;31m                                         _stacktrace=sys.exc_info()[2])\n\u001b[0m\u001b[1;32m    639\u001b[0m             \u001b[0mretries\u001b[0m\u001b[0;34m.\u001b[0m\u001b[0msleep\u001b[0m\u001b[0;34m(\u001b[0m\u001b[0;34m)\u001b[0m\u001b[0;34m\u001b[0m\u001b[0;34m\u001b[0m\u001b[0m\n",
      "\u001b[0;32m~/projects/secret/wsu/ds/lib/python3.7/site-packages/urllib3/util/retry.py\u001b[0m in \u001b[0;36mincrement\u001b[0;34m(self, method, url, response, error, _pool, _stacktrace)\u001b[0m\n\u001b[1;32m    397\u001b[0m         \u001b[0;32mif\u001b[0m \u001b[0mnew_retry\u001b[0m\u001b[0;34m.\u001b[0m\u001b[0mis_exhausted\u001b[0m\u001b[0;34m(\u001b[0m\u001b[0;34m)\u001b[0m\u001b[0;34m:\u001b[0m\u001b[0;34m\u001b[0m\u001b[0;34m\u001b[0m\u001b[0m\n\u001b[0;32m--> 398\u001b[0;31m             \u001b[0;32mraise\u001b[0m \u001b[0mMaxRetryError\u001b[0m\u001b[0;34m(\u001b[0m\u001b[0m_pool\u001b[0m\u001b[0;34m,\u001b[0m \u001b[0murl\u001b[0m\u001b[0;34m,\u001b[0m \u001b[0merror\u001b[0m \u001b[0;32mor\u001b[0m \u001b[0mResponseError\u001b[0m\u001b[0;34m(\u001b[0m\u001b[0mcause\u001b[0m\u001b[0;34m)\u001b[0m\u001b[0;34m)\u001b[0m\u001b[0;34m\u001b[0m\u001b[0;34m\u001b[0m\u001b[0m\n\u001b[0m\u001b[1;32m    399\u001b[0m \u001b[0;34m\u001b[0m\u001b[0m\n",
      "\u001b[0;31mMaxRetryError\u001b[0m: HTTPSConnectionPool(host='data.cdc.gov', port=443): Max retries exceeded with url: /resource/4arj-uxbw.json (Caused by SSLError(SSLCertVerificationError(1, '[SSL: CERTIFICATE_VERIFY_FAILED] certificate verify failed: self signed certificate in certificate chain (_ssl.c:1056)')))",
      "\nDuring handling of the above exception, another exception occurred:\n",
      "\u001b[0;31mSSLError\u001b[0m                                  Traceback (most recent call last)",
      "\u001b[0;32m<ipython-input-15-22a290c9a0c0>\u001b[0m in \u001b[0;36m<module>\u001b[0;34m\u001b[0m\n\u001b[1;32m     15\u001b[0m \u001b[0;34m\u001b[0m\u001b[0m\n\u001b[1;32m     16\u001b[0m \u001b[0mdatasets\u001b[0m \u001b[0;34m=\u001b[0m \u001b[0;34m[\u001b[0m\u001b[0;34m\"4arj-uxbw\"\u001b[0m\u001b[0;34m]\u001b[0m\u001b[0;34m\u001b[0m\u001b[0;34m\u001b[0m\u001b[0m\n\u001b[0;32m---> 17\u001b[0;31m \u001b[0mclabsi\u001b[0m\u001b[0;34m=\u001b[0m \u001b[0mpd\u001b[0m\u001b[0;34m.\u001b[0m\u001b[0mDataFrame\u001b[0m\u001b[0;34m(\u001b[0m\u001b[0;34m)\u001b[0m\u001b[0;34m.\u001b[0m\u001b[0mfrom_records\u001b[0m\u001b[0;34m(\u001b[0m\u001b[0mclient\u001b[0m\u001b[0;34m.\u001b[0m\u001b[0mget\u001b[0m\u001b[0;34m(\u001b[0m\u001b[0mdatasets\u001b[0m\u001b[0;34m[\u001b[0m\u001b[0;36m0\u001b[0m\u001b[0;34m]\u001b[0m\u001b[0;34m)\u001b[0m\u001b[0;34m)\u001b[0m\u001b[0;34m\u001b[0m\u001b[0;34m\u001b[0m\u001b[0m\n\u001b[0m\u001b[1;32m     18\u001b[0m \u001b[0;34m\u001b[0m\u001b[0m\n\u001b[1;32m     19\u001b[0m \u001b[0mclabsi\u001b[0m\u001b[0;34m.\u001b[0m\u001b[0mhead\u001b[0m\u001b[0;34m(\u001b[0m\u001b[0;36m2\u001b[0m\u001b[0;34m)\u001b[0m\u001b[0;34m\u001b[0m\u001b[0;34m\u001b[0m\u001b[0m\n",
      "\u001b[0;32m~/projects/secret/wsu/ds/lib/python3.7/site-packages/sodapy/__init__.py\u001b[0m in \u001b[0;36mget\u001b[0;34m(self, dataset_identifier, content_type, **kwargs)\u001b[0m\n\u001b[1;32m    289\u001b[0m \u001b[0;34m\u001b[0m\u001b[0m\n\u001b[1;32m    290\u001b[0m         response = self._perform_request(\"get\", resource, headers=headers,\n\u001b[0;32m--> 291\u001b[0;31m                                          params=params)\n\u001b[0m\u001b[1;32m    292\u001b[0m         \u001b[0;32mreturn\u001b[0m \u001b[0mresponse\u001b[0m\u001b[0;34m\u001b[0m\u001b[0;34m\u001b[0m\u001b[0m\n\u001b[1;32m    293\u001b[0m \u001b[0;34m\u001b[0m\u001b[0m\n",
      "\u001b[0;32m~/projects/secret/wsu/ds/lib/python3.7/site-packages/sodapy/__init__.py\u001b[0m in \u001b[0;36m_perform_request\u001b[0;34m(self, request_type, resource, **kwargs)\u001b[0m\n\u001b[1;32m    400\u001b[0m         \u001b[0mkwargs\u001b[0m\u001b[0;34m[\u001b[0m\u001b[0;34m\"timeout\"\u001b[0m\u001b[0;34m]\u001b[0m \u001b[0;34m=\u001b[0m \u001b[0mself\u001b[0m\u001b[0;34m.\u001b[0m\u001b[0mtimeout\u001b[0m\u001b[0;34m\u001b[0m\u001b[0;34m\u001b[0m\u001b[0m\n\u001b[1;32m    401\u001b[0m \u001b[0;34m\u001b[0m\u001b[0m\n\u001b[0;32m--> 402\u001b[0;31m         \u001b[0mresponse\u001b[0m \u001b[0;34m=\u001b[0m \u001b[0mgetattr\u001b[0m\u001b[0;34m(\u001b[0m\u001b[0mself\u001b[0m\u001b[0;34m.\u001b[0m\u001b[0msession\u001b[0m\u001b[0;34m,\u001b[0m \u001b[0mrequest_type\u001b[0m\u001b[0;34m)\u001b[0m\u001b[0;34m(\u001b[0m\u001b[0muri\u001b[0m\u001b[0;34m,\u001b[0m \u001b[0;34m**\u001b[0m\u001b[0mkwargs\u001b[0m\u001b[0;34m)\u001b[0m\u001b[0;34m\u001b[0m\u001b[0;34m\u001b[0m\u001b[0m\n\u001b[0m\u001b[1;32m    403\u001b[0m \u001b[0;34m\u001b[0m\u001b[0m\n\u001b[1;32m    404\u001b[0m         \u001b[0;31m# handle errors\u001b[0m\u001b[0;34m\u001b[0m\u001b[0;34m\u001b[0m\u001b[0;34m\u001b[0m\u001b[0m\n",
      "\u001b[0;32m~/projects/secret/wsu/ds/lib/python3.7/site-packages/requests/sessions.py\u001b[0m in \u001b[0;36mget\u001b[0;34m(self, url, **kwargs)\u001b[0m\n\u001b[1;32m    544\u001b[0m \u001b[0;34m\u001b[0m\u001b[0m\n\u001b[1;32m    545\u001b[0m         \u001b[0mkwargs\u001b[0m\u001b[0;34m.\u001b[0m\u001b[0msetdefault\u001b[0m\u001b[0;34m(\u001b[0m\u001b[0;34m'allow_redirects'\u001b[0m\u001b[0;34m,\u001b[0m \u001b[0;32mTrue\u001b[0m\u001b[0;34m)\u001b[0m\u001b[0;34m\u001b[0m\u001b[0;34m\u001b[0m\u001b[0m\n\u001b[0;32m--> 546\u001b[0;31m         \u001b[0;32mreturn\u001b[0m \u001b[0mself\u001b[0m\u001b[0;34m.\u001b[0m\u001b[0mrequest\u001b[0m\u001b[0;34m(\u001b[0m\u001b[0;34m'GET'\u001b[0m\u001b[0;34m,\u001b[0m \u001b[0murl\u001b[0m\u001b[0;34m,\u001b[0m \u001b[0;34m**\u001b[0m\u001b[0mkwargs\u001b[0m\u001b[0;34m)\u001b[0m\u001b[0;34m\u001b[0m\u001b[0;34m\u001b[0m\u001b[0m\n\u001b[0m\u001b[1;32m    547\u001b[0m \u001b[0;34m\u001b[0m\u001b[0m\n\u001b[1;32m    548\u001b[0m     \u001b[0;32mdef\u001b[0m \u001b[0moptions\u001b[0m\u001b[0;34m(\u001b[0m\u001b[0mself\u001b[0m\u001b[0;34m,\u001b[0m \u001b[0murl\u001b[0m\u001b[0;34m,\u001b[0m \u001b[0;34m**\u001b[0m\u001b[0mkwargs\u001b[0m\u001b[0;34m)\u001b[0m\u001b[0;34m:\u001b[0m\u001b[0;34m\u001b[0m\u001b[0;34m\u001b[0m\u001b[0m\n",
      "\u001b[0;32m~/projects/secret/wsu/ds/lib/python3.7/site-packages/requests/sessions.py\u001b[0m in \u001b[0;36mrequest\u001b[0;34m(self, method, url, params, data, headers, cookies, files, auth, timeout, allow_redirects, proxies, hooks, stream, verify, cert, json)\u001b[0m\n\u001b[1;32m    531\u001b[0m         }\n\u001b[1;32m    532\u001b[0m         \u001b[0msend_kwargs\u001b[0m\u001b[0;34m.\u001b[0m\u001b[0mupdate\u001b[0m\u001b[0;34m(\u001b[0m\u001b[0msettings\u001b[0m\u001b[0;34m)\u001b[0m\u001b[0;34m\u001b[0m\u001b[0;34m\u001b[0m\u001b[0m\n\u001b[0;32m--> 533\u001b[0;31m         \u001b[0mresp\u001b[0m \u001b[0;34m=\u001b[0m \u001b[0mself\u001b[0m\u001b[0;34m.\u001b[0m\u001b[0msend\u001b[0m\u001b[0;34m(\u001b[0m\u001b[0mprep\u001b[0m\u001b[0;34m,\u001b[0m \u001b[0;34m**\u001b[0m\u001b[0msend_kwargs\u001b[0m\u001b[0;34m)\u001b[0m\u001b[0;34m\u001b[0m\u001b[0;34m\u001b[0m\u001b[0m\n\u001b[0m\u001b[1;32m    534\u001b[0m \u001b[0;34m\u001b[0m\u001b[0m\n\u001b[1;32m    535\u001b[0m         \u001b[0;32mreturn\u001b[0m \u001b[0mresp\u001b[0m\u001b[0;34m\u001b[0m\u001b[0;34m\u001b[0m\u001b[0m\n",
      "\u001b[0;32m~/projects/secret/wsu/ds/lib/python3.7/site-packages/requests/sessions.py\u001b[0m in \u001b[0;36msend\u001b[0;34m(self, request, **kwargs)\u001b[0m\n\u001b[1;32m    644\u001b[0m \u001b[0;34m\u001b[0m\u001b[0m\n\u001b[1;32m    645\u001b[0m         \u001b[0;31m# Send the request\u001b[0m\u001b[0;34m\u001b[0m\u001b[0;34m\u001b[0m\u001b[0;34m\u001b[0m\u001b[0m\n\u001b[0;32m--> 646\u001b[0;31m         \u001b[0mr\u001b[0m \u001b[0;34m=\u001b[0m \u001b[0madapter\u001b[0m\u001b[0;34m.\u001b[0m\u001b[0msend\u001b[0m\u001b[0;34m(\u001b[0m\u001b[0mrequest\u001b[0m\u001b[0;34m,\u001b[0m \u001b[0;34m**\u001b[0m\u001b[0mkwargs\u001b[0m\u001b[0;34m)\u001b[0m\u001b[0;34m\u001b[0m\u001b[0;34m\u001b[0m\u001b[0m\n\u001b[0m\u001b[1;32m    647\u001b[0m \u001b[0;34m\u001b[0m\u001b[0m\n\u001b[1;32m    648\u001b[0m         \u001b[0;31m# Total elapsed time of the request (approximately)\u001b[0m\u001b[0;34m\u001b[0m\u001b[0;34m\u001b[0m\u001b[0;34m\u001b[0m\u001b[0m\n",
      "\u001b[0;32m~/projects/secret/wsu/ds/lib/python3.7/site-packages/requests/adapters.py\u001b[0m in \u001b[0;36msend\u001b[0;34m(self, request, stream, timeout, verify, cert, proxies)\u001b[0m\n\u001b[1;32m    512\u001b[0m             \u001b[0;32mif\u001b[0m \u001b[0misinstance\u001b[0m\u001b[0;34m(\u001b[0m\u001b[0me\u001b[0m\u001b[0;34m.\u001b[0m\u001b[0mreason\u001b[0m\u001b[0;34m,\u001b[0m \u001b[0m_SSLError\u001b[0m\u001b[0;34m)\u001b[0m\u001b[0;34m:\u001b[0m\u001b[0;34m\u001b[0m\u001b[0;34m\u001b[0m\u001b[0m\n\u001b[1;32m    513\u001b[0m                 \u001b[0;31m# This branch is for urllib3 v1.22 and later.\u001b[0m\u001b[0;34m\u001b[0m\u001b[0;34m\u001b[0m\u001b[0;34m\u001b[0m\u001b[0m\n\u001b[0;32m--> 514\u001b[0;31m                 \u001b[0;32mraise\u001b[0m \u001b[0mSSLError\u001b[0m\u001b[0;34m(\u001b[0m\u001b[0me\u001b[0m\u001b[0;34m,\u001b[0m \u001b[0mrequest\u001b[0m\u001b[0;34m=\u001b[0m\u001b[0mrequest\u001b[0m\u001b[0;34m)\u001b[0m\u001b[0;34m\u001b[0m\u001b[0;34m\u001b[0m\u001b[0m\n\u001b[0m\u001b[1;32m    515\u001b[0m \u001b[0;34m\u001b[0m\u001b[0m\n\u001b[1;32m    516\u001b[0m             \u001b[0;32mraise\u001b[0m \u001b[0mConnectionError\u001b[0m\u001b[0;34m(\u001b[0m\u001b[0me\u001b[0m\u001b[0;34m,\u001b[0m \u001b[0mrequest\u001b[0m\u001b[0;34m=\u001b[0m\u001b[0mrequest\u001b[0m\u001b[0;34m)\u001b[0m\u001b[0;34m\u001b[0m\u001b[0;34m\u001b[0m\u001b[0m\n",
      "\u001b[0;31mSSLError\u001b[0m: HTTPSConnectionPool(host='data.cdc.gov', port=443): Max retries exceeded with url: /resource/4arj-uxbw.json (Caused by SSLError(SSLCertVerificationError(1, '[SSL: CERTIFICATE_VERIFY_FAILED] certificate verify failed: self signed certificate in certificate chain (_ssl.c:1056)')))"
     ]
    }
   ],
   "source": [
    "import sys\n",
    "!{sys.executable} -m pip install sodapy\n",
    "import os\n",
    "from sodapy import Socrata\n",
    "import matplotlib.pyplot as plt\n",
    "import seaborn as sns\n",
    "sns.set(style=\"darkgrid\")\n",
    "plt.close('all')\n",
    "import pandas as pd\n",
    "\n",
    "\n",
    "\n",
    "#clabsi = pd.read_csv(\"Datasets/2015_Central_Line-Associated_Bloodstream_Infections__CLABSI__Table.csv\")\n",
    "client = Socrata(\"data.cdc.gov\", app_token=None)# , os.environ['SOCRATA_TOKEN'])\n",
    "\n",
    "datasets = [\"4arj-uxbw\"]\n",
    "clabsi= pd.DataFrame().from_records(client.get(datasets[0]))\n",
    "\n",
    "clabsi.head(2)\n"
   ]
  },
  {
   "cell_type": "code",
   "execution_count": 13,
   "metadata": {},
   "outputs": [
    {
     "data": {
      "text/html": [
       "<div>\n",
       "<style scoped>\n",
       "    .dataframe tbody tr th:only-of-type {\n",
       "        vertical-align: middle;\n",
       "    }\n",
       "\n",
       "    .dataframe tbody tr th {\n",
       "        vertical-align: top;\n",
       "    }\n",
       "\n",
       "    .dataframe thead th {\n",
       "        text-align: right;\n",
       "    }\n",
       "</style>\n",
       "<table border=\"1\" class=\"dataframe\">\n",
       "  <thead>\n",
       "    <tr style=\"text-align: right;\">\n",
       "      <th></th>\n",
       "      <th>Hospital Name</th>\n",
       "      <th>Hospital Location</th>\n",
       "      <th>Central Line Days</th>\n",
       "      <th>Observed Infections</th>\n",
       "      <th>Predicted Infections</th>\n",
       "      <th>2015 SIR</th>\n",
       "      <th>SIR 95% CI</th>\n",
       "      <th>SIR Interpretation (2006-08 US baseline)</th>\n",
       "      <th>2013 HHS Targets</th>\n",
       "      <th>Percentile on 2014 National SIR Distribution</th>\n",
       "      <th>County</th>\n",
       "      <th>HPP Region</th>\n",
       "      <th>Location 1</th>\n",
       "      <th>SIR Icon</th>\n",
       "      <th>Benchmark Icon</th>\n",
       "    </tr>\n",
       "  </thead>\n",
       "  <tbody>\n",
       "    <tr>\n",
       "      <th>0</th>\n",
       "      <td>1. All Oregon</td>\n",
       "      <td>All Neonatal ICUs Combined*</td>\n",
       "      <td>7622</td>\n",
       "      <td>12</td>\n",
       "      <td>16.04</td>\n",
       "      <td>0.748</td>\n",
       "      <td>0.405, 1.272</td>\n",
       "      <td>Fewer infections</td>\n",
       "      <td>Target Not Met</td>\n",
       "      <td>71-75%</td>\n",
       "      <td>NaN</td>\n",
       "      <td>NaN</td>\n",
       "      <td>NaN</td>\n",
       "      <td>https://data.oregon.gov/views/4arj-uxbw/files/...</td>\n",
       "      <td>NaN</td>\n",
       "    </tr>\n",
       "    <tr>\n",
       "      <th>1</th>\n",
       "      <td>1. All Oregon</td>\n",
       "      <td>Pediatric Medical/Surgical ICUs</td>\n",
       "      <td>4431</td>\n",
       "      <td>5</td>\n",
       "      <td>13.29</td>\n",
       "      <td>0.376</td>\n",
       "      <td>0.138, 0.834</td>\n",
       "      <td>Statistically fewer infections</td>\n",
       "      <td>SIR Target (&lt;0.5) Met</td>\n",
       "      <td>51-55%</td>\n",
       "      <td>NaN</td>\n",
       "      <td>NaN</td>\n",
       "      <td>NaN</td>\n",
       "      <td>https://data.oregon.gov/views/4arj-uxbw/files/...</td>\n",
       "      <td>https://data.oregon.gov/views/4arj-uxbw/files/...</td>\n",
       "    </tr>\n",
       "  </tbody>\n",
       "</table>\n",
       "</div>"
      ],
      "text/plain": [
       "    Hospital Name                Hospital Location  Central Line Days  \\\n",
       "0   1. All Oregon      All Neonatal ICUs Combined*               7622   \n",
       "1   1. All Oregon  Pediatric Medical/Surgical ICUs               4431   \n",
       "\n",
       "   Observed Infections  Predicted Infections 2015 SIR    SIR 95% CI  \\\n",
       "0                   12                 16.04    0.748  0.405, 1.272   \n",
       "1                    5                 13.29    0.376  0.138, 0.834   \n",
       "\n",
       "  SIR Interpretation (2006-08 US baseline)       2013 HHS Targets  \\\n",
       "0                         Fewer infections         Target Not Met   \n",
       "1           Statistically fewer infections  SIR Target (<0.5) Met   \n",
       "\n",
       "  Percentile on 2014 National SIR Distribution County HPP Region Location 1  \\\n",
       "0                                       71-75%    NaN        NaN        NaN   \n",
       "1                                       51-55%    NaN        NaN        NaN   \n",
       "\n",
       "                                            SIR Icon  \\\n",
       "0  https://data.oregon.gov/views/4arj-uxbw/files/...   \n",
       "1  https://data.oregon.gov/views/4arj-uxbw/files/...   \n",
       "\n",
       "                                      Benchmark Icon  \n",
       "0                                                NaN  \n",
       "1  https://data.oregon.gov/views/4arj-uxbw/files/...  "
      ]
     },
     "execution_count": 13,
     "metadata": {},
     "output_type": "execute_result"
    }
   ],
   "source": [
    "import pandas as pd\n",
    "\n",
    "\n",
    "clabsi = pd.read_csv(\"Datasets/2015_Central_Line-Associated_Bloodstream_Infections__CLABSI__Table.csv\")\n",
    "\n",
    "clabsi.head(2)\n",
    "\n"
   ]
  },
  {
   "cell_type": "markdown",
   "metadata": {},
   "source": [
    " <h2><center> Data Cleaning </center></h2>\n",
    "                                                                           "
   ]
  },
  {
   "cell_type": "markdown",
   "metadata": {},
   "source": [
    "1. I dropped the columns that I do not need in this analysis.\n"
   ]
  },
  {
   "cell_type": "code",
   "execution_count": 136,
   "metadata": {},
   "outputs": [],
   "source": [
    "clabsi.drop([\"County\", \"SIR Icon\", \"Benchmark Icon\"], axis=1, inplace=True)"
   ]
  },
  {
   "cell_type": "code",
   "execution_count": 137,
   "metadata": {},
   "outputs": [
    {
     "data": {
      "text/html": [
       "<div>\n",
       "<style scoped>\n",
       "    .dataframe tbody tr th:only-of-type {\n",
       "        vertical-align: middle;\n",
       "    }\n",
       "\n",
       "    .dataframe tbody tr th {\n",
       "        vertical-align: top;\n",
       "    }\n",
       "\n",
       "    .dataframe thead th {\n",
       "        text-align: right;\n",
       "    }\n",
       "</style>\n",
       "<table border=\"1\" class=\"dataframe\">\n",
       "  <thead>\n",
       "    <tr style=\"text-align: right;\">\n",
       "      <th></th>\n",
       "      <th>Hospital Name</th>\n",
       "      <th>Hospital Location</th>\n",
       "      <th>Central Line Days</th>\n",
       "      <th>Observed Infections</th>\n",
       "      <th>Predicted Infections</th>\n",
       "      <th>2015 SIR</th>\n",
       "      <th>SIR 95% CI</th>\n",
       "      <th>SIR Interpretation (2006-08 US baseline)</th>\n",
       "      <th>2013 HHS Targets</th>\n",
       "      <th>Percentile on 2014 National SIR Distribution</th>\n",
       "      <th>HPP Region</th>\n",
       "      <th>Location 1</th>\n",
       "    </tr>\n",
       "  </thead>\n",
       "  <tbody>\n",
       "    <tr>\n",
       "      <th>0</th>\n",
       "      <td>1. All Oregon</td>\n",
       "      <td>All Neonatal ICUs Combined*</td>\n",
       "      <td>7622</td>\n",
       "      <td>12</td>\n",
       "      <td>16.04</td>\n",
       "      <td>0.748</td>\n",
       "      <td>0.405, 1.272</td>\n",
       "      <td>Fewer infections</td>\n",
       "      <td>Target Not Met</td>\n",
       "      <td>71-75%</td>\n",
       "      <td>NaN</td>\n",
       "      <td>NaN</td>\n",
       "    </tr>\n",
       "    <tr>\n",
       "      <th>1</th>\n",
       "      <td>1. All Oregon</td>\n",
       "      <td>Pediatric Medical/Surgical ICUs</td>\n",
       "      <td>4431</td>\n",
       "      <td>5</td>\n",
       "      <td>13.29</td>\n",
       "      <td>0.376</td>\n",
       "      <td>0.138, 0.834</td>\n",
       "      <td>Statistically fewer infections</td>\n",
       "      <td>SIR Target (&lt;0.5) Met</td>\n",
       "      <td>51-55%</td>\n",
       "      <td>NaN</td>\n",
       "      <td>NaN</td>\n",
       "    </tr>\n",
       "  </tbody>\n",
       "</table>\n",
       "</div>"
      ],
      "text/plain": [
       "    Hospital Name                Hospital Location  Central Line Days  \\\n",
       "0   1. All Oregon      All Neonatal ICUs Combined*               7622   \n",
       "1   1. All Oregon  Pediatric Medical/Surgical ICUs               4431   \n",
       "\n",
       "   Observed Infections  Predicted Infections 2015 SIR    SIR 95% CI  \\\n",
       "0                   12                 16.04    0.748  0.405, 1.272   \n",
       "1                    5                 13.29    0.376  0.138, 0.834   \n",
       "\n",
       "  SIR Interpretation (2006-08 US baseline)       2013 HHS Targets  \\\n",
       "0                         Fewer infections         Target Not Met   \n",
       "1           Statistically fewer infections  SIR Target (<0.5) Met   \n",
       "\n",
       "  Percentile on 2014 National SIR Distribution HPP Region Location 1  \n",
       "0                                       71-75%        NaN        NaN  \n",
       "1                                       51-55%        NaN        NaN  "
      ]
     },
     "execution_count": 137,
     "metadata": {},
     "output_type": "execute_result"
    }
   ],
   "source": [
    "clabsi.head(2)"
   ]
  },
  {
   "cell_type": "raw",
   "metadata": {},
   "source": [
    "\n",
    "2. I renamed the column: \"2015 SIR\" as \"2015 Standard_Infection_Ratio,SIR\" to explain what \"SIR\" stands for."
   ]
  },
  {
   "cell_type": "code",
   "execution_count": 127,
   "metadata": {},
   "outputs": [
    {
     "data": {
      "text/html": [
       "<div>\n",
       "<style scoped>\n",
       "    .dataframe tbody tr th:only-of-type {\n",
       "        vertical-align: middle;\n",
       "    }\n",
       "\n",
       "    .dataframe tbody tr th {\n",
       "        vertical-align: top;\n",
       "    }\n",
       "\n",
       "    .dataframe thead th {\n",
       "        text-align: right;\n",
       "    }\n",
       "</style>\n",
       "<table border=\"1\" class=\"dataframe\">\n",
       "  <thead>\n",
       "    <tr style=\"text-align: right;\">\n",
       "      <th></th>\n",
       "      <th>Hospital Name</th>\n",
       "      <th>Hospital Location</th>\n",
       "      <th>Central Line Days</th>\n",
       "      <th>Observed Infections</th>\n",
       "      <th>Predicted Infections</th>\n",
       "      <th>2015 Standard_Infection_Ratio,SIR</th>\n",
       "      <th>SIR 95% CI</th>\n",
       "      <th>SIR Interpretation (2006-08 US baseline)</th>\n",
       "      <th>2013 HHS Targets</th>\n",
       "      <th>Percentile on 2014 National SIR Distribution</th>\n",
       "      <th>HPP Region</th>\n",
       "      <th>Location 1</th>\n",
       "    </tr>\n",
       "  </thead>\n",
       "  <tbody>\n",
       "    <tr>\n",
       "      <th>0</th>\n",
       "      <td>1. All Oregon</td>\n",
       "      <td>All Neonatal ICUs Combined*</td>\n",
       "      <td>7622</td>\n",
       "      <td>12</td>\n",
       "      <td>16.04</td>\n",
       "      <td>0.748</td>\n",
       "      <td>0.405, 1.272</td>\n",
       "      <td>Fewer infections</td>\n",
       "      <td>Target Not Met</td>\n",
       "      <td>71-75%</td>\n",
       "      <td>NaN</td>\n",
       "      <td>NaN</td>\n",
       "    </tr>\n",
       "    <tr>\n",
       "      <th>1</th>\n",
       "      <td>1. All Oregon</td>\n",
       "      <td>Pediatric Medical/Surgical ICUs</td>\n",
       "      <td>4431</td>\n",
       "      <td>5</td>\n",
       "      <td>13.29</td>\n",
       "      <td>0.376</td>\n",
       "      <td>0.138, 0.834</td>\n",
       "      <td>Statistically fewer infections</td>\n",
       "      <td>SIR Target (&lt;0.5) Met</td>\n",
       "      <td>51-55%</td>\n",
       "      <td>NaN</td>\n",
       "      <td>NaN</td>\n",
       "    </tr>\n",
       "    <tr>\n",
       "      <th>2</th>\n",
       "      <td>1. All Oregon</td>\n",
       "      <td>Adult Medical/Surgical ICUs</td>\n",
       "      <td>45068</td>\n",
       "      <td>26</td>\n",
       "      <td>76.28</td>\n",
       "      <td>0.341</td>\n",
       "      <td>0.227, 0.492</td>\n",
       "      <td>Statistically fewer infections</td>\n",
       "      <td>SIR Target (&lt;0.5) Met</td>\n",
       "      <td>46-50%</td>\n",
       "      <td>NaN</td>\n",
       "      <td>NaN</td>\n",
       "    </tr>\n",
       "    <tr>\n",
       "      <th>3</th>\n",
       "      <td>1. All Oregon</td>\n",
       "      <td>Adult Medical ICUs</td>\n",
       "      <td>4850</td>\n",
       "      <td>4</td>\n",
       "      <td>11.08</td>\n",
       "      <td>0.361</td>\n",
       "      <td>0.115, 0.871</td>\n",
       "      <td>Statistically fewer infections</td>\n",
       "      <td>SIR Target (&lt;0.5) Met</td>\n",
       "      <td>51-55%</td>\n",
       "      <td>NaN</td>\n",
       "      <td>NaN</td>\n",
       "    </tr>\n",
       "    <tr>\n",
       "      <th>4</th>\n",
       "      <td>1. All Oregon</td>\n",
       "      <td>Adult Cardiothoracic ICUs</td>\n",
       "      <td>8466</td>\n",
       "      <td>5</td>\n",
       "      <td>11.85</td>\n",
       "      <td>0.422</td>\n",
       "      <td>0.155, 0.935</td>\n",
       "      <td>Statistically fewer infections</td>\n",
       "      <td>SIR Target (&lt;0.5) Met</td>\n",
       "      <td>56-60%</td>\n",
       "      <td>NaN</td>\n",
       "      <td>NaN</td>\n",
       "    </tr>\n",
       "  </tbody>\n",
       "</table>\n",
       "</div>"
      ],
      "text/plain": [
       "    Hospital Name                Hospital Location  Central Line Days  \\\n",
       "0   1. All Oregon      All Neonatal ICUs Combined*               7622   \n",
       "1   1. All Oregon  Pediatric Medical/Surgical ICUs               4431   \n",
       "2   1. All Oregon      Adult Medical/Surgical ICUs              45068   \n",
       "3   1. All Oregon               Adult Medical ICUs               4850   \n",
       "4   1. All Oregon        Adult Cardiothoracic ICUs               8466   \n",
       "\n",
       "   Observed Infections  Predicted Infections  \\\n",
       "0                   12                 16.04   \n",
       "1                    5                 13.29   \n",
       "2                   26                 76.28   \n",
       "3                    4                 11.08   \n",
       "4                    5                 11.85   \n",
       "\n",
       "  2015 Standard_Infection_Ratio,SIR    SIR 95% CI  \\\n",
       "0                             0.748  0.405, 1.272   \n",
       "1                             0.376  0.138, 0.834   \n",
       "2                             0.341  0.227, 0.492   \n",
       "3                             0.361  0.115, 0.871   \n",
       "4                             0.422  0.155, 0.935   \n",
       "\n",
       "  SIR Interpretation (2006-08 US baseline)       2013 HHS Targets  \\\n",
       "0                         Fewer infections         Target Not Met   \n",
       "1           Statistically fewer infections  SIR Target (<0.5) Met   \n",
       "2           Statistically fewer infections  SIR Target (<0.5) Met   \n",
       "3           Statistically fewer infections  SIR Target (<0.5) Met   \n",
       "4           Statistically fewer infections  SIR Target (<0.5) Met   \n",
       "\n",
       "  Percentile on 2014 National SIR Distribution HPP Region Location 1  \n",
       "0                                       71-75%        NaN        NaN  \n",
       "1                                       51-55%        NaN        NaN  \n",
       "2                                       46-50%        NaN        NaN  \n",
       "3                                       51-55%        NaN        NaN  \n",
       "4                                       56-60%        NaN        NaN  "
      ]
     },
     "execution_count": 127,
     "metadata": {},
     "output_type": "execute_result"
    }
   ],
   "source": [
    "clabsi.rename(columns={\"2015 SIR\":\"2015 Standard_Infection_Ratio,SIR\"}, inplace=True)\n",
    "clabsi.head()"
   ]
  },
  {
   "cell_type": "code",
   "execution_count": 146,
   "metadata": {},
   "outputs": [
    {
     "data": {
      "text/html": [
       "<div>\n",
       "<style scoped>\n",
       "    .dataframe tbody tr th:only-of-type {\n",
       "        vertical-align: middle;\n",
       "    }\n",
       "\n",
       "    .dataframe tbody tr th {\n",
       "        vertical-align: top;\n",
       "    }\n",
       "\n",
       "    .dataframe thead th {\n",
       "        text-align: right;\n",
       "    }\n",
       "</style>\n",
       "<table border=\"1\" class=\"dataframe\">\n",
       "  <thead>\n",
       "    <tr style=\"text-align: right;\">\n",
       "      <th></th>\n",
       "      <th>Hospital_Name</th>\n",
       "      <th>Hospital_Location</th>\n",
       "      <th>Central_Line_Days</th>\n",
       "      <th>Observed_Infections</th>\n",
       "      <th>Predicted_Infections</th>\n",
       "      <th>2015_SIR</th>\n",
       "      <th>SIR_95%_CI</th>\n",
       "      <th>SIR_Interpretation_(2006-08_US_baseline)</th>\n",
       "      <th>2013_HHS_Targets</th>\n",
       "      <th>Percentile_on_2014_National_SIR_Distribution</th>\n",
       "      <th>HPP_Region</th>\n",
       "      <th>Location_1</th>\n",
       "    </tr>\n",
       "  </thead>\n",
       "  <tbody>\n",
       "    <tr>\n",
       "      <th>0</th>\n",
       "      <td>1. All Oregon</td>\n",
       "      <td>All Neonatal ICUs Combined*</td>\n",
       "      <td>7622</td>\n",
       "      <td>12</td>\n",
       "      <td>16.04</td>\n",
       "      <td>0.748</td>\n",
       "      <td>0.405, 1.272</td>\n",
       "      <td>Fewer infections</td>\n",
       "      <td>Target Not Met</td>\n",
       "      <td>71-75%</td>\n",
       "      <td>NaN</td>\n",
       "      <td>NaN</td>\n",
       "    </tr>\n",
       "    <tr>\n",
       "      <th>1</th>\n",
       "      <td>1. All Oregon</td>\n",
       "      <td>Pediatric Medical/Surgical ICUs</td>\n",
       "      <td>4431</td>\n",
       "      <td>5</td>\n",
       "      <td>13.29</td>\n",
       "      <td>0.376</td>\n",
       "      <td>0.138, 0.834</td>\n",
       "      <td>Statistically fewer infections</td>\n",
       "      <td>SIR Target (&lt;0.5) Met</td>\n",
       "      <td>51-55%</td>\n",
       "      <td>NaN</td>\n",
       "      <td>NaN</td>\n",
       "    </tr>\n",
       "  </tbody>\n",
       "</table>\n",
       "</div>"
      ],
      "text/plain": [
       "    Hospital_Name                Hospital_Location  Central_Line_Days  \\\n",
       "0   1. All Oregon      All Neonatal ICUs Combined*               7622   \n",
       "1   1. All Oregon  Pediatric Medical/Surgical ICUs               4431   \n",
       "\n",
       "   Observed_Infections  Predicted_Infections 2015_SIR    SIR_95%_CI  \\\n",
       "0                   12                 16.04    0.748  0.405, 1.272   \n",
       "1                    5                 13.29    0.376  0.138, 0.834   \n",
       "\n",
       "  SIR_Interpretation_(2006-08_US_baseline)       2013_HHS_Targets  \\\n",
       "0                         Fewer infections         Target Not Met   \n",
       "1           Statistically fewer infections  SIR Target (<0.5) Met   \n",
       "\n",
       "  Percentile_on_2014_National_SIR_Distribution HPP_Region Location_1  \n",
       "0                                       71-75%        NaN        NaN  \n",
       "1                                       51-55%        NaN        NaN  "
      ]
     },
     "execution_count": 146,
     "metadata": {},
     "output_type": "execute_result"
    }
   ],
   "source": [
    "clabsi.columns = clabsi.columns.str.replace(' ', '_')\n",
    "clabsi.head(2)"
   ]
  },
  {
   "cell_type": "markdown",
   "metadata": {},
   "source": [
    "<h2><center> Summary and Type of Data </center></h2>\n",
    "                                                                        \n",
    "The code below shows a summary of the dataset, as well as the size and typr=e of data."
   ]
  },
  {
   "cell_type": "code",
   "execution_count": 147,
   "metadata": {},
   "outputs": [
    {
     "name": "stdout",
     "output_type": "stream",
     "text": [
      "<class 'pandas.core.frame.DataFrame'>\n",
      "RangeIndex: 219 entries, 0 to 218\n",
      "Data columns (total 12 columns):\n",
      "Hospital_Name                                   219 non-null object\n",
      "Hospital_Location                               219 non-null object\n",
      "Central_Line_Days                               219 non-null int64\n",
      "Observed_Infections                             219 non-null int64\n",
      "Predicted_Infections                            219 non-null float64\n",
      "2015_SIR                                        219 non-null object\n",
      "SIR_95%_CI                                      217 non-null object\n",
      "SIR_Interpretation_(2006-08_US_baseline)        219 non-null object\n",
      "2013_HHS_Targets                                196 non-null object\n",
      "Percentile_on_2014_National_SIR_Distribution    218 non-null object\n",
      "HPP_Region                                      203 non-null object\n",
      "Location_1                                      203 non-null object\n",
      "dtypes: float64(1), int64(2), object(9)\n",
      "memory usage: 20.6+ KB\n"
     ]
    }
   ],
   "source": [
    "clabsi.info()"
   ]
  },
  {
   "cell_type": "markdown",
   "metadata": {},
   "source": [
    "<h2><center> Summary of Statistical Informatiion </center></h2>"
   ]
  },
  {
   "cell_type": "code",
   "execution_count": 148,
   "metadata": {},
   "outputs": [
    {
     "data": {
      "text/html": [
       "<div>\n",
       "<style scoped>\n",
       "    .dataframe tbody tr th:only-of-type {\n",
       "        vertical-align: middle;\n",
       "    }\n",
       "\n",
       "    .dataframe tbody tr th {\n",
       "        vertical-align: top;\n",
       "    }\n",
       "\n",
       "    .dataframe thead th {\n",
       "        text-align: right;\n",
       "    }\n",
       "</style>\n",
       "<table border=\"1\" class=\"dataframe\">\n",
       "  <thead>\n",
       "    <tr style=\"text-align: right;\">\n",
       "      <th></th>\n",
       "      <th>Central_Line_Days</th>\n",
       "      <th>Observed_Infections</th>\n",
       "      <th>Predicted_Infections</th>\n",
       "    </tr>\n",
       "  </thead>\n",
       "  <tbody>\n",
       "    <tr>\n",
       "      <th>count</th>\n",
       "      <td>219.000000</td>\n",
       "      <td>219.000000</td>\n",
       "      <td>219.000000</td>\n",
       "    </tr>\n",
       "    <tr>\n",
       "      <th>mean</th>\n",
       "      <td>3109.570776</td>\n",
       "      <td>2.383562</td>\n",
       "      <td>5.277443</td>\n",
       "    </tr>\n",
       "    <tr>\n",
       "      <th>std</th>\n",
       "      <td>11924.243042</td>\n",
       "      <td>8.774907</td>\n",
       "      <td>20.080048</td>\n",
       "    </tr>\n",
       "    <tr>\n",
       "      <th>min</th>\n",
       "      <td>0.000000</td>\n",
       "      <td>0.000000</td>\n",
       "      <td>0.000000</td>\n",
       "    </tr>\n",
       "    <tr>\n",
       "      <th>25%</th>\n",
       "      <td>198.000000</td>\n",
       "      <td>0.000000</td>\n",
       "      <td>0.275000</td>\n",
       "    </tr>\n",
       "    <tr>\n",
       "      <th>50%</th>\n",
       "      <td>939.000000</td>\n",
       "      <td>1.000000</td>\n",
       "      <td>1.310000</td>\n",
       "    </tr>\n",
       "    <tr>\n",
       "      <th>75%</th>\n",
       "      <td>2300.000000</td>\n",
       "      <td>2.000000</td>\n",
       "      <td>3.810000</td>\n",
       "    </tr>\n",
       "    <tr>\n",
       "      <th>max</th>\n",
       "      <td>161715.000000</td>\n",
       "      <td>118.000000</td>\n",
       "      <td>271.590000</td>\n",
       "    </tr>\n",
       "  </tbody>\n",
       "</table>\n",
       "</div>"
      ],
      "text/plain": [
       "       Central_Line_Days  Observed_Infections  Predicted_Infections\n",
       "count         219.000000           219.000000            219.000000\n",
       "mean         3109.570776             2.383562              5.277443\n",
       "std         11924.243042             8.774907             20.080048\n",
       "min             0.000000             0.000000              0.000000\n",
       "25%           198.000000             0.000000              0.275000\n",
       "50%           939.000000             1.000000              1.310000\n",
       "75%          2300.000000             2.000000              3.810000\n",
       "max        161715.000000           118.000000            271.590000"
      ]
     },
     "execution_count": 148,
     "metadata": {},
     "output_type": "execute_result"
    }
   ],
   "source": [
    "clabsi.describe()"
   ]
  },
  {
   "cell_type": "markdown",
   "metadata": {},
   "source": [
    "                                                                       \n",
    " <h2><center> Data Visualization </center></h2>\n",
    "\n"
   ]
  },
  {
   "cell_type": "code",
   "execution_count": 108,
   "metadata": {},
   "outputs": [],
   "source": [
    "import  seaborn as sns"
   ]
  },
  {
   "cell_type": "code",
   "execution_count": 149,
   "metadata": {},
   "outputs": [
    {
     "data": {
      "image/png": "[encoded data removed]",
      "text/plain": [
       "<Figure size 432x288 with 1 Axes>"
      ]
     },
     "metadata": {
      "needs_background": "light"
     },
     "output_type": "display_data"
    }
   ],
   "source": [
    "dv = sns.barplot(\"Central_Line_Days\", \"Observed_Infections\", data=clabsi).set_title(\"IV & Ind\")"
   ]
  },
  {
   "cell_type": "markdown",
   "metadata": {},
   "source": [
    "The bar chart above shows a positive relationship beteween the days of central line, and the observed infections.\n"
   ]
  },
  {
   "cell_type": "code",
   "execution_count": 111,
   "metadata": {},
   "outputs": [
    {
     "data": {
      "text/plain": [
       "Text(0, 0.5, 'number of observations')"
      ]
     },
     "execution_count": 111,
     "metadata": {},
     "output_type": "execute_result"
    },
    {
     "data": {
      "image/png": "[encoded data removed]",
      "text/plain": [
       "<Figure size 432x288 with 1 Axes>"
      ]
     },
     "metadata": {
      "needs_background": "light"
     },
     "output_type": "display_data"
    }
   ],
   "source": [
    "import matplotlib.pyplot as plt\n",
    "%matplotlib inline\n",
    "plt.hist(clabsi.Central_Line_Days)\n",
    "plt.title(\"Distribution of Observation\")\n",
    "plt.xlabel(\"CLD\")\n",
    "plt.ylabel(\"number of observations\")"
   ]
  },
  {
   "cell_type": "markdown",
   "metadata": {},
   "source": [
    "This histogram charts shows that most of the cases has central line days (CLD) of less than 20000  "
   ]
  },
  {
   "cell_type": "code",
   "execution_count": 142,
   "metadata": {},
   "outputs": [
    {
     "ename": "NameError",
     "evalue": "name 'Observed_Infections' is not defined",
     "output_type": "error",
     "traceback": [
      "\u001b[1;31m---------------------------------------------------------------------------\u001b[0m",
      "\u001b[1;31mNameError\u001b[0m                                 Traceback (most recent call last)",
      "\u001b[1;32m<ipython-input-142-6f127eadb141>\u001b[0m in \u001b[0;36m<module>\u001b[1;34m\u001b[0m\n\u001b[0;32m      2\u001b[0m \u001b[0mplt\u001b[0m\u001b[1;33m.\u001b[0m\u001b[0mxlabel\u001b[0m\u001b[1;33m(\u001b[0m\u001b[1;34m\"Observed_Infections\"\u001b[0m\u001b[1;33m)\u001b[0m\u001b[1;33m\u001b[0m\u001b[1;33m\u001b[0m\u001b[0m\n\u001b[0;32m      3\u001b[0m \u001b[0mplt\u001b[0m\u001b[1;33m.\u001b[0m\u001b[0mylabel\u001b[0m\u001b[1;33m(\u001b[0m\u001b[1;34m\"Predicted_Infections\"\u001b[0m\u001b[1;33m)\u001b[0m\u001b[1;33m\u001b[0m\u001b[1;33m\u001b[0m\u001b[0m\n\u001b[1;32m----> 4\u001b[1;33m \u001b[0mplt\u001b[0m\u001b[1;33m.\u001b[0m\u001b[0mscatter\u001b[0m\u001b[1;33m(\u001b[0m\u001b[0mObserved_Infections\u001b[0m\u001b[1;33m,\u001b[0m \u001b[0mPredicted_Infections\u001b[0m\u001b[1;33m)\u001b[0m\u001b[1;33m\u001b[0m\u001b[1;33m\u001b[0m\u001b[0m\n\u001b[0m\u001b[0;32m      5\u001b[0m \u001b[0mplt\u001b[0m\u001b[1;33m.\u001b[0m\u001b[0mshow\u001b[0m\u001b[1;33m(\u001b[0m\u001b[1;33m)\u001b[0m\u001b[1;33m\u001b[0m\u001b[1;33m\u001b[0m\u001b[0m\n",
      "\u001b[1;31mNameError\u001b[0m: name 'Observed_Infections' is not defined"
     ]
    },
    {
     "data": {
      "image/png": "[encoded data removed]",
      "text/plain": [
       "<Figure size 432x288 with 1 Axes>"
      ]
     },
     "metadata": {
      "needs_background": "light"
     },
     "output_type": "display_data"
    }
   ],
   "source": [
    "plt.title('Scatter plot of CLD and Predicted Observations')\n",
    "plt.xlabel(\"Observed_Infections\")\n",
    "plt.ylabel(\"Predicted_Infections\")\n",
    "plt.scatter(Observed_Infections, Predicted_Infections)\n",
    "plt.show()"
   ]
  },
  {
   "cell_type": "code",
   "execution_count": null,
   "metadata": {},
   "outputs": [],
   "source": []
  }
 ],
 "metadata": {
  "kernelspec": {
   "display_name": "Python 3",
   "language": "python",
   "name": "python3"
  },
  "language_info": {
   "codemirror_mode": {
    "name": "ipython",
    "version": 3
   },
   "file_extension": ".py",
   "mimetype": "text/x-python",
   "name": "python",
   "nbconvert_exporter": "python",
   "pygments_lexer": "ipython3",
   "version": "3.7.2"
  }
 },
 "nbformat": 4,
 "nbformat_minor": 2
}
