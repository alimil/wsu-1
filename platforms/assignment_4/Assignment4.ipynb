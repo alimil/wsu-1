{
  "nbformat": 4,
  "nbformat_minor": 0,
  "metadata": {
    "colab": {
      "name": "Assignment4.ipynb",
      "version": "0.3.2",
      "provenance": [],
      "collapsed_sections": []
    },
    "kernelspec": {
      "name": "python3",
      "display_name": "Python 3"
    }
  },
  "cells": [
    {
      "metadata": {
        "id": "YLCtcwSCmeGz",
        "colab_type": "code",
        "outputId": "146a8c59-44e6-40db-c3c4-1c08af0dc11c",
        "colab": {
          "base_uri": "https://localhost:8080/",
          "height": 204
        }
      },
      "cell_type": "code",
      "source": [
        "!apt-get install openjdk-8-jdk-headless -qq > /dev/null\n",
        "![ ! -e \"$(basename spark-2.4.1-bin-hadoop2.7.tgz)\" ] && wget  http://apache.osuosl.org/spark/spark-2.4.1/spark-2.4.1-bin-hadoop2.7.tgz\n",
        "!tar xf spark-2.4.1-bin-hadoop2.7.tgz"
      ],
      "execution_count": 0,
      "outputs": [
        {
          "output_type": "stream",
          "text": [
            "--2019-04-09 00:58:38--  http://apache.osuosl.org/spark/spark-2.4.1/spark-2.4.1-bin-hadoop2.7.tgz\n",
            "Resolving apache.osuosl.org (apache.osuosl.org)... 64.50.236.52, 140.211.166.134, 64.50.233.100, ...\n",
            "Connecting to apache.osuosl.org (apache.osuosl.org)|64.50.236.52|:80... connected.\n",
            "HTTP request sent, awaiting response... 200 OK\n",
            "Length: 230778742 (220M) [application/x-gzip]\n",
            "Saving to: ‘spark-2.4.1-bin-hadoop2.7.tgz’\n",
            "\n",
            "spark-2.4.1-bin-had 100%[===================>] 220.09M  26.1MB/s    in 13s     \n",
            "\n",
            "2019-04-09 00:58:51 (17.0 MB/s) - ‘spark-2.4.1-bin-hadoop2.7.tgz’ saved [230778742/230778742]\n",
            "\n"
          ],
          "name": "stdout"
        }
      ]
    },
    {
      "metadata": {
        "id": "omNkhAwl2V21",
        "colab_type": "code",
        "colab": {}
      },
      "cell_type": "code",
      "source": [
        "!pip install -q findspark"
      ],
      "execution_count": 0,
      "outputs": []
    },
    {
      "metadata": {
        "id": "l6yH8VATnKiN",
        "colab_type": "code",
        "colab": {}
      },
      "cell_type": "code",
      "source": [
        "import os\n",
        "os.environ[\"JAVA_HOME\"] = \"/usr/lib/jvm/java-8-openjdk-amd64\"\n",
        "os.environ[\"SPARK_HOME\"] = \"/content/spark-2.4.1-bin-hadoop2.7\""
      ],
      "execution_count": 0,
      "outputs": []
    },
    {
      "metadata": {
        "id": "V61ecorTnQKK",
        "colab_type": "code",
        "colab": {}
      },
      "cell_type": "code",
      "source": [
        "import findspark\n",
        "findspark.init()\n",
        "from pyspark.sql import SparkSession\n",
        "\n",
        "# get a spark session. \n",
        "spark = SparkSession.builder.master(\"local[*]\").getOrCreate()"
      ],
      "execution_count": 0,
      "outputs": []
    },
    {
      "metadata": {
        "id": "lYdU0VDXmNhL",
        "colab_type": "code",
        "outputId": "f68303f5-c8be-43f8-c5b0-3d23390d2612",
        "colab": {
          "base_uri": "https://localhost:8080/",
          "height": 236
        }
      },
      "cell_type": "code",
      "source": [
        "\n",
        "ss_ = spark.read.csv(\"ss.csv\", header= True, \n",
        "                      inferSchema = True)\n",
        "\n",
        "print(ss_.columns)\n",
        "\n",
        "columns_lambda = lambda k: k.endswith(', Current week')\n",
        "\n",
        "common_cols = ['Reporting Area','MMWR Year','MMWR Week']\n",
        "\n",
        "sss = filter(columns_lambda, ss_.columns)\n",
        "\n",
        "\n",
        "to_keep = common_cols + list(sss)\n",
        "\n",
        "dfss = ss_.select(*to_keep).withColumnRenamed('Reporting Area', 'area').withColumnRenamed('MMWR Year','year').withColumnRenamed('MMWR Week','week')\n",
        "dfss.columns"
      ],
      "execution_count": 3,
      "outputs": [
        {
          "output_type": "error",
          "ename": "NameError",
          "evalue": "ignored",
          "traceback": [
            "\u001b[0;31m---------------------------------------------------------------------------\u001b[0m",
            "\u001b[0;31mNameError\u001b[0m                                 Traceback (most recent call last)",
            "\u001b[0;32m<ipython-input-3-de4bd8ee4f1b>\u001b[0m in \u001b[0;36m<module>\u001b[0;34m()\u001b[0m\n\u001b[1;32m      1\u001b[0m \u001b[0;34m\u001b[0m\u001b[0m\n\u001b[0;32m----> 2\u001b[0;31m ss_ = spark.read.csv(\"ss.csv\", header= True, \n\u001b[0m\u001b[1;32m      3\u001b[0m                       inferSchema = True)\n\u001b[1;32m      4\u001b[0m \u001b[0;34m\u001b[0m\u001b[0m\n\u001b[1;32m      5\u001b[0m \u001b[0mprint\u001b[0m\u001b[0;34m(\u001b[0m\u001b[0mss_\u001b[0m\u001b[0;34m.\u001b[0m\u001b[0mcolumns\u001b[0m\u001b[0;34m)\u001b[0m\u001b[0;34m\u001b[0m\u001b[0;34m\u001b[0m\u001b[0m\n",
            "\u001b[0;31mNameError\u001b[0m: name 'spark' is not defined"
          ]
        }
      ]
    },
    {
      "metadata": {
        "id": "Dnvtmvp8UFl6",
        "colab_type": "code",
        "colab": {
          "base_uri": "https://localhost:8080/",
          "height": 104
        },
        "outputId": "585d82ac-02db-4f14-c7e0-fffdbb72d436"
      },
      "cell_type": "code",
      "source": [
        "ch_ = spark.read.csv(\"ch.csv\", header= True, \n",
        "                      inferSchema = True)\n",
        "\n",
        "sss = filter(columns_lambda, ch_.columns)\n",
        "\n",
        "\n",
        "to_keep = common_cols + list(sss)\n",
        "\n",
        "chss = ch_.select(*to_keep).withColumnRenamed('Reporting Area', 'area').withColumnRenamed('MMWR Year','year').withColumnRenamed('MMWR Week','week')\n",
        "\n",
        "chss.columns"
      ],
      "execution_count": 68,
      "outputs": [
        {
          "output_type": "execute_result",
          "data": {
            "text/plain": [
              "['area',\n",
              " 'year',\n",
              " 'week',\n",
              " 'Chlamydia trachomatis infection, Current week',\n",
              " 'Coccidioidomycosis, Current week']"
            ]
          },
          "metadata": {
            "tags": []
          },
          "execution_count": 68
        }
      ]
    },
    {
      "metadata": {
        "id": "JqQE0Nmwb-DL",
        "colab_type": "code",
        "colab": {
          "base_uri": "https://localhost:8080/",
          "height": 219
        },
        "outputId": "8e82a030-3045-4907-e5cb-642d9ce615e5"
      },
      "cell_type": "code",
      "source": [
        "to_keep = common_cols + list(sss)\n",
        "\n",
        "cghss = chss.join(dfss, [area, week , year])\n",
        "cghss.show(100)"
      ],
      "execution_count": 2,
      "outputs": [
        {
          "output_type": "error",
          "ename": "NameError",
          "evalue": "ignored",
          "traceback": [
            "\u001b[0;31m---------------------------------------------------------------------------\u001b[0m",
            "\u001b[0;31mNameError\u001b[0m                                 Traceback (most recent call last)",
            "\u001b[0;32m<ipython-input-2-23689cbbce87>\u001b[0m in \u001b[0;36m<module>\u001b[0;34m()\u001b[0m\n\u001b[0;32m----> 1\u001b[0;31m \u001b[0mto_keep\u001b[0m \u001b[0;34m=\u001b[0m \u001b[0mcommon_cols\u001b[0m \u001b[0;34m+\u001b[0m \u001b[0mlist\u001b[0m\u001b[0;34m(\u001b[0m\u001b[0msss\u001b[0m\u001b[0;34m)\u001b[0m\u001b[0;34m\u001b[0m\u001b[0;34m\u001b[0m\u001b[0m\n\u001b[0m\u001b[1;32m      2\u001b[0m \u001b[0;34m\u001b[0m\u001b[0m\n\u001b[1;32m      3\u001b[0m \u001b[0mcghss\u001b[0m \u001b[0;34m=\u001b[0m \u001b[0mchss\u001b[0m\u001b[0;34m.\u001b[0m\u001b[0mjoin\u001b[0m\u001b[0;34m(\u001b[0m\u001b[0mdfss\u001b[0m\u001b[0;34m,\u001b[0m \u001b[0mcommon_cols\u001b[0m\u001b[0;34m=\u001b[0m\u001b[0;34m[\u001b[0m\u001b[0marea\u001b[0m\u001b[0;34m,\u001b[0m \u001b[0mweek\u001b[0m \u001b[0;34m,\u001b[0m \u001b[0myear\u001b[0m\u001b[0;34m]\u001b[0m\u001b[0;34m)\u001b[0m\u001b[0;34m\u001b[0m\u001b[0;34m\u001b[0m\u001b[0m\n\u001b[1;32m      4\u001b[0m \u001b[0mcghss\u001b[0m\u001b[0;34m.\u001b[0m\u001b[0mshow\u001b[0m\u001b[0;34m(\u001b[0m\u001b[0;36m100\u001b[0m\u001b[0;34m)\u001b[0m\u001b[0;34m\u001b[0m\u001b[0;34m\u001b[0m\u001b[0m\n",
            "\u001b[0;31mNameError\u001b[0m: name 'common_cols' is not defined"
          ]
        }
      ]
    }
  ]
}