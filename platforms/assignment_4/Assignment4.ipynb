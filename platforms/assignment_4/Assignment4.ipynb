{
  "nbformat": 4,
  "nbformat_minor": 0,
  "metadata": {
    "colab": {
      "name": "Assignment4.ipynb",
      "version": "0.3.2",
      "provenance": [],
      "collapsed_sections": []
    },
    "kernelspec": {
      "name": "python3",
      "display_name": "Python 3"
    }
  },
  "cells": [
    {
      "metadata": {
        "id": "YLCtcwSCmeGz",
        "colab_type": "code",
        "outputId": "e8a6a0af-da35-42f4-8c36-d6be7f673cc2",
        "colab": {
          "base_uri": "https://localhost:8080/",
          "height": 228
        }
      },
      "cell_type": "code",
      "source": [
        "!apt-get install openjdk-8-jdk-headless -qq > /dev/null\n",
        "![ ! -e \"$(basename spark-2.4.1-bin-hadoop2.7.tgz)\" ] && wget  http://apache.osuosl.org/spark/spark-2.4.1/spark-2.4.1-bin-hadoop2.7.tgz\n",
        "!tar xf spark-2.4.1-bin-hadoop2.7.tgz"
      ],
      "execution_count": 4,
      "outputs": [
        {
          "output_type": "stream",
          "text": [
            "--2019-04-09 12:28:17--  http://apache.osuosl.org/spark/spark-2.4.1/spark-2.4.1-bin-hadoop2.7.tgz\n",
            "Resolving apache.osuosl.org (apache.osuosl.org)... 64.50.233.100, 64.50.236.52, 140.211.166.134, ...\n",
            "Connecting to apache.osuosl.org (apache.osuosl.org)|64.50.233.100|:80... connected.\n",
            "HTTP request sent, awaiting response... 200 OK\n",
            "Length: 230778742 (220M) [application/x-gzip]\n",
            "Saving to: ‘spark-2.4.1-bin-hadoop2.7.tgz’\n",
            "\n",
            "spark-2.4.1-bin-had 100%[===================>] 220.09M  24.6MB/s    in 7.9s    \n",
            "\n",
            "2019-04-09 12:28:25 (28.0 MB/s) - ‘spark-2.4.1-bin-hadoop2.7.tgz’ saved [230778742/230778742]\n",
            "\n"
          ],
          "name": "stdout"
        }
      ]
    },
    {
      "metadata": {
        "id": "omNkhAwl2V21",
        "colab_type": "code",
        "colab": {
          "base_uri": "https://localhost:8080/",
          "height": 228
        },
        "outputId": "0a1da19c-8282-45de-ef42-06cd367ab301"
      },
      "cell_type": "code",
      "source": [
        "!pip install -q findspark\n",
        "\n",
        "! [ ! -e \"$(basename ss.csv)\" ] && wget  https://raw.githubusercontent.com/borodark/wsu/master/platforms/assignment_4/ss.csv\n",
        "\n",
        "! [ ! -e \"$(basename ch.csv)\" ] && wget  https://raw.githubusercontent.com/borodark/wsu/master/platforms/assignment_4/ch.csv"
      ],
      "execution_count": 7,
      "outputs": [
        {
          "output_type": "stream",
          "text": [
            "--2019-04-09 12:35:16--  https://raw.githubusercontent.com/borodark/wsu/master/platforms/assignment_4/ch.csv\n",
            "Resolving raw.githubusercontent.com (raw.githubusercontent.com)... 151.101.0.133, 151.101.64.133, 151.101.128.133, ...\n",
            "Connecting to raw.githubusercontent.com (raw.githubusercontent.com)|151.101.0.133|:443... connected.\n",
            "HTTP request sent, awaiting response... 200 OK\n",
            "Length: 213061 (208K) [text/plain]\n",
            "Saving to: ‘ch.csv’\n",
            "\n",
            "\rch.csv                0%[                    ]       0  --.-KB/s               \rch.csv              100%[===================>] 208.07K  --.-KB/s    in 0.02s   \n",
            "\n",
            "2019-04-09 12:35:17 (9.43 MB/s) - ‘ch.csv’ saved [213061/213061]\n",
            "\n"
          ],
          "name": "stdout"
        }
      ]
    },
    {
      "metadata": {
        "id": "l6yH8VATnKiN",
        "colab_type": "code",
        "colab": {}
      },
      "cell_type": "code",
      "source": [
        "import os\n",
        "os.environ[\"JAVA_HOME\"] = \"/usr/lib/jvm/java-8-openjdk-amd64\"\n",
        "os.environ[\"SPARK_HOME\"] = \"/content/spark-2.4.1-bin-hadoop2.7\""
      ],
      "execution_count": 0,
      "outputs": []
    },
    {
      "metadata": {
        "id": "V61ecorTnQKK",
        "colab_type": "code",
        "colab": {}
      },
      "cell_type": "code",
      "source": [
        "import findspark\n",
        "findspark.init()\n",
        "from pyspark.sql import SparkSession\n",
        "\n",
        "# get a spark session. \n",
        "spark = SparkSession.builder.master(\"local[*]\").getOrCreate()"
      ],
      "execution_count": 0,
      "outputs": []
    },
    {
      "metadata": {
        "id": "lYdU0VDXmNhL",
        "colab_type": "code",
        "outputId": "847c9fa2-3865-4246-909e-8943471e6227",
        "colab": {
          "base_uri": "https://localhost:8080/",
          "height": 159
        }
      },
      "cell_type": "code",
      "source": [
        "\n",
        "ss_ = spark.read.csv(\"ss.csv\", header= True, \n",
        "                      inferSchema = True)\n",
        "\n",
        "print(ss_.columns)\n",
        "\n",
        "columns_lambda = lambda k: k.endswith(', Current week')\n",
        "\n",
        "common_cols = ['Reporting Area','MMWR Year','MMWR Week']\n",
        "\n",
        "ss_cols = list(filter(columns_lambda, ss_.columns))\n",
        "\n",
        "\n",
        "to_keep = common_cols + ss_cols\n",
        "\n",
        "dfss = ss_.select(*to_keep).withColumnRenamed('Reporting Area', 'area').withColumnRenamed('MMWR Year','year').withColumnRenamed('MMWR Week','week')\n",
        "dfss.columns"
      ],
      "execution_count": 15,
      "outputs": [
        {
          "output_type": "stream",
          "text": [
            "['Reporting Area', 'MMWR Year', 'MMWR Week', 'Salmonellosis (excluding Paratyphoid fever andTyphoid fever)†, Current week', 'Salmonellosis (excluding Paratyphoid fever andTyphoid fever)†, Current week, flag', 'Salmonellosis (excluding Paratyphoid fever andTyphoid fever)†, Previous 52 weeks Med', 'Salmonellosis (excluding Paratyphoid fever andTyphoid fever)†, Previous 52 weeks Med, flag', 'Salmonellosis (excluding Paratyphoid fever andTyphoid fever)†, Previous 52 weeks Max', 'Salmonellosis (excluding Paratyphoid fever andTyphoid fever)†, Previous 52 weeks Max, flag', 'Salmonellosis (excluding Paratyphoid fever andTyphoid fever)†, Cum 2018', 'Salmonellosis (excluding Paratyphoid fever andTyphoid fever)†, Cum 2018, flag', 'Salmonellosis (excluding Paratyphoid fever andTyphoid fever)†, Cum 2017', 'Salmonellosis (excluding Paratyphoid fever andTyphoid fever)†, Cum 2017, flag', 'Shiga toxin-producing Escherichia coli, Current week', 'Shiga toxin-producing Escherichia coli, Current week, flag', 'Shiga toxin-producing Escherichia coli, Previous 52 weeks Med', 'Shiga toxin-producing Escherichia coli, Previous 52 weeks Med, flag', 'Shiga toxin-producing Escherichia coli, Previous 52 weeks Max', 'Shiga toxin-producing Escherichia coli, Previous 52 weeks Max, flag', 'Shiga toxin-producing Escherichia coli, Cum 2018', 'Shiga toxin-producing Escherichia coli, Cum 2018, flag', 'Shiga toxin-producing Escherichia coli, Cum 2017', 'Shiga toxin-producing Escherichia coli, Cum 2017, flag', 'Shigellosis, Current week', 'Shigellosis, Current week, flag', 'Shigellosis, Previous 52 weeks Med', 'Shigellosis, Previous 52 weeks Med, flag', 'Shigellosis, Previous 52 weeks Max', 'Shigellosis, Previous 52 weeks Max, flag', 'Shigellosis, Cum 2018', 'Shigellosis, Cum 2018, flag', 'Shigellosis, Cum 2017', 'Shigellosis, Cum 2017, flag']\n"
          ],
          "name": "stdout"
        },
        {
          "output_type": "execute_result",
          "data": {
            "text/plain": [
              "['area',\n",
              " 'year',\n",
              " 'week',\n",
              " 'Salmonellosis (excluding Paratyphoid fever andTyphoid fever)†, Current week',\n",
              " 'Shiga toxin-producing Escherichia coli, Current week',\n",
              " 'Shigellosis, Current week']"
            ]
          },
          "metadata": {
            "tags": []
          },
          "execution_count": 15
        }
      ]
    },
    {
      "metadata": {
        "id": "Dnvtmvp8UFl6",
        "colab_type": "code",
        "colab": {
          "base_uri": "https://localhost:8080/",
          "height": 104
        },
        "outputId": "03dcc9a7-e82f-4801-91c6-0dc23f18b84c"
      },
      "cell_type": "code",
      "source": [
        "ch_ = spark.read.csv(\"ch.csv\", header= True, \n",
        "                      inferSchema = True)\n",
        "\n",
        "ch_cols = list(filter(columns_lambda, ch_.columns))\n",
        "\n",
        "\n",
        "to_keep = common_cols + ch_cols\n",
        "\n",
        "chss = ch_.select(*to_keep).withColumnRenamed('Reporting Area', 'area').withColumnRenamed('MMWR Year','year').withColumnRenamed('MMWR Week','week')\n",
        "\n",
        "chss.columns"
      ],
      "execution_count": 16,
      "outputs": [
        {
          "output_type": "execute_result",
          "data": {
            "text/plain": [
              "['area',\n",
              " 'year',\n",
              " 'week',\n",
              " 'Chlamydia trachomatis infection, Current week',\n",
              " 'Coccidioidomycosis, Current week']"
            ]
          },
          "metadata": {
            "tags": []
          },
          "execution_count": 16
        }
      ]
    },
    {
      "metadata": {
        "id": "JqQE0Nmwb-DL",
        "colab_type": "code",
        "colab": {
          "base_uri": "https://localhost:8080/",
          "height": 2048
        },
        "outputId": "7af04da6-c16d-422f-9de1-8d0e31b1819d"
      },
      "cell_type": "code",
      "source": [
        "to_keep = [chss.area, chss.year, chss.week] + ss_cols + ch_cols\n",
        "\n",
        "chss = chss.join(dfss, [chss.area == dfss.area, chss.week == dfss.week ,chss.year == dfss.year]).select(*to_keep)\n",
        "chss.show(100)\n",
        "chss.printSchema()"
      ],
      "execution_count": 24,
      "outputs": [
        {
          "output_type": "stream",
          "text": [
            "+--------------+----+----+---------------------------------------------------------------------------+----------------------------------------------------+-------------------------+---------------------------------------------+--------------------------------+\n",
            "|          area|year|week|Salmonellosis (excluding Paratyphoid fever andTyphoid fever)†, Current week|Shiga toxin-producing Escherichia coli, Current week|Shigellosis, Current week|Chlamydia trachomatis infection, Current week|Coccidioidomycosis, Current week|\n",
            "+--------------+----+----+---------------------------------------------------------------------------+----------------------------------------------------+-------------------------+---------------------------------------------+--------------------------------+\n",
            "| UNITED STATES|2018|   1|                                                                          9|                                                  15|                       50|                                         3741|                             262|\n",
            "|   NEW ENGLAND|2018|   1|                                                                       null|                                                null|                     null|                                            9|                            null|\n",
            "| MID. ATLANTIC|2018|   1|                                                                          9|                                                   3|                       12|                                          932|                            null|\n",
            "| NEW YORK CITY|2018|   1|                                                                          9|                                                   1|                       10|                                         null|                            null|\n",
            "|  E.N. CENTRAL|2018|   1|                                                                       null|                                                   5|                       12|                                         1017|                            null|\n",
            "|  W.N. CENTRAL|2018|   1|                                                                       null|                                                   3|                        3|                                          171|                               1|\n",
            "|   S. ATLANTIC|2018|   1|                                                                       null|                                                   1|                        8|                                          411|                            null|\n",
            "|  E.S. CENTRAL|2018|   1|                                                                       null|                                                null|                       10|                                          150|                            null|\n",
            "|  W.S. CENTRAL|2018|   1|                                                                       null|                                                   1|                        1|                                           11|                            null|\n",
            "|      MOUNTAIN|2018|   1|                                                                       null|                                                null|                        2|                                          481|                             261|\n",
            "|       PACIFIC|2018|   1|                                                                       null|                                                   2|                        2|                                          559|                            null|\n",
            "|   AMER. SAMOA|2018|   1|                                                                       null|                                                null|                     null|                                         null|                            null|\n",
            "|  SOUTH DAKOTA|2018|   1|                                                                       null|                                                null|                     null|                                            1|                            null|\n",
            "| NEW HAMPSHIRE|2018|   1|                                                                       null|                                                null|                     null|                                         null|                            null|\n",
            "|SOUTH CAROLINA|2018|   1|                                                                       null|                                                   1|                        3|                                         null|                            null|\n",
            "|      MICHIGAN|2018|   1|                                                                       null|                                                null|                     null|                                          104|                            null|\n",
            "|    NEW MEXICO|2018|   1|                                                                       null|                                                null|                     null|                                            6|                            null|\n",
            "|        OREGON|2018|   1|                                                                       null|                                                   2|                        2|                                          324|                            null|\n",
            "|      DELAWARE|2018|   1|                                                                       null|                                                null|                     null|                                         null|                            null|\n",
            "|      NEW YORK|2018|   1|                                                                       null|                                                   1|                        1|                                          246|                            null|\n",
            "|      VIRGINIA|2018|   1|                                                                       null|                                                null|                     null|                                         null|                            null|\n",
            "|   VIRGIN ISL.|2018|   1|                                                                       null|                                                null|                     null|                                         null|                            null|\n",
            "|   CONNECTICUT|2018|   1|                                                                       null|                                                null|                     null|                                         null|                            null|\n",
            "|       VERMONT|2018|   1|                                                                       null|                                                null|                     null|                                         null|                            null|\n",
            "|        KANSAS|2018|   1|                                                                       null|                                                null|                     null|                                           62|                            null|\n",
            "| WEST VIRGINIA|2018|   1|                                                                       null|                                                null|                     null|                                         null|                            null|\n",
            "| MASSACHUSETTS|2018|   1|                                                                       null|                                                null|                     null|                                         null|                            null|\n",
            "|       FLORIDA|2018|   1|                                                                       null|                                                null|                     null|                                          292|                            null|\n",
            "|      ILLINOIS|2018|   1|                                                                       null|                                                null|                     null|                                         null|                            null|\n",
            "|         TEXAS|2018|   1|                                                                       null|                                                null|                     null|                                         null|                            null|\n",
            "|  RHODE ISLAND|2018|   1|                                                                       null|                                                null|                     null|                                            9|                            null|\n",
            "|  PENNSYLVANIA|2018|   1|                                                                       null|                                                   1|                        1|                                          534|                            null|\n",
            "|          GUAM|2018|   1|                                                                       null|                                                null|                     null|                                         null|                            null|\n",
            "|       ALABAMA|2018|   1|                                                                       null|                                                null|                     null|                                         null|                            null|\n",
            "|       GEORGIA|2018|   1|                                                                       null|                                                null|                     null|                                         null|                            null|\n",
            "|      COLORADO|2018|   1|                                                                       null|                                                null|                     null|                                          393|                            null|\n",
            "|       MONTANA|2018|   1|                                                                       null|                                                null|                     null|                                         null|                            null|\n",
            "|      MARYLAND|2018|   1|                                                                       null|                                                null|                        5|                                          119|                            null|\n",
            "|       ARIZONA|2018|   1|                                                                       null|                                                null|                        2|                                         null|                             261|\n",
            "|    NEW JERSEY|2018|   1|                                                                       null|                                                null|                     null|                                          152|                            null|\n",
            "|          IOWA|2018|   1|                                                                       null|                                                null|                     null|                                         null|                            null|\n",
            "|     LOUISIANA|2018|   1|                                                                       null|                                                null|                     null|                                           11|                            null|\n",
            "|       INDIANA|2018|   1|                                                                       null|                                                null|                     null|                                          229|                            null|\n",
            "|      KENTUCKY|2018|   1|                                                                       null|                                                null|                        1|                                         null|                            null|\n",
            "|        HAWAII|2018|   1|                                                                       null|                                                null|                     null|                                         null|                            null|\n",
            "|       WYOMING|2018|   1|                                                                       null|                                                null|                     null|                                         null|                            null|\n",
            "|   MISSISSIPPI|2018|   1|                                                                       null|                                                null|                        4|                                           45|                            null|\n",
            "|  NORTH DAKOTA|2018|   1|                                                                       null|                                                null|                     null|                                            1|                            null|\n",
            "|     TENNESSEE|2018|   1|                                                                       null|                                                null|                        5|                                          105|                            null|\n",
            "|        ALASKA|2018|   1|                                                                       null|                                                null|                     null|                                         null|                            null|\n",
            "|     WISCONSIN|2018|   1|                                                                       null|                                                   1|                     null|                                          219|                            null|\n",
            "|    WASHINGTON|2018|   1|                                                                       null|                                                null|                     null|                                          235|                            null|\n",
            "|NORTH CAROLINA|2018|   1|                                                                       null|                                                null|                     null|                                         null|                            null|\n",
            "|      MISSOURI|2018|   1|                                                                       null|                                                   3|                        3|                                          107|                               1|\n",
            "|         MAINE|2018|   1|                                                                       null|                                                null|                     null|                                         null|                            null|\n",
            "|          OHIO|2018|   1|                                                                       null|                                                   4|                       12|                                          465|                            null|\n",
            "|      C.N.M.I.|2018|   1|                                                                       null|                                                null|                     null|                                         null|                            null|\n",
            "|     MINNESOTA|2018|   1|                                                                       null|                                                null|                     null|                                         null|                            null|\n",
            "|      OKLAHOMA|2018|   1|                                                                       null|                                                null|                     null|                                         null|                            null|\n",
            "|          UTAH|2018|   1|                                                                       null|                                                null|                     null|                                           82|                            null|\n",
            "|        NEVADA|2018|   1|                                                                       null|                                                null|                     null|                                         null|                            null|\n",
            "|   PUERTO RICO|2018|   1|                                                                       null|                                                null|                     null|                                         null|                            null|\n",
            "|         IDAHO|2018|   1|                                                                       null|                                                null|                     null|                                         null|                            null|\n",
            "|    CALIFORNIA|2018|   1|                                                                       null|                                                null|                     null|                                         null|                            null|\n",
            "|      NEBRASKA|2018|   1|                                                                       null|                                                null|                     null|                                         null|                            null|\n",
            "|      ARKANSAS|2018|   1|                                                                       null|                                                   1|                        1|                                         null|                            null|\n",
            "| DIST. OF COL.|2018|   1|                                                                       null|                                                null|                     null|                                         null|                            null|\n",
            "| UNITED STATES|2018|   2|                                                                         26|                                                  25|                       53|                                         9071|                             236|\n",
            "|   NEW ENGLAND|2018|   2|                                                                          1|                                                null|                     null|                                            8|                            null|\n",
            "| MID. ATLANTIC|2018|   2|                                                                         19|                                                   4|                       17|                                         2569|                            null|\n",
            "| NEW YORK CITY|2018|   2|                                                                         19|                                                   2|                       11|                                          749|                            null|\n",
            "|  E.N. CENTRAL|2018|   2|                                                                       null|                                                   6|                       11|                                         1424|                            null|\n",
            "|  W.N. CENTRAL|2018|   2|                                                                       null|                                                   3|                     null|                                          440|                            null|\n",
            "|   S. ATLANTIC|2018|   2|                                                                       null|                                                   4|                       10|                                         2481|                            null|\n",
            "|  E.S. CENTRAL|2018|   2|                                                                       null|                                                null|                     null|                                          522|                            null|\n",
            "|  W.S. CENTRAL|2018|   2|                                                                       null|                                                   5|                        5|                                           74|                            null|\n",
            "|      MOUNTAIN|2018|   2|                                                                       null|                                                   2|                        5|                                          341|                             216|\n",
            "|       PACIFIC|2018|   2|                                                                          6|                                                   1|                        5|                                         1212|                              20|\n",
            "|   AMER. SAMOA|2018|   2|                                                                       null|                                                null|                     null|                                         null|                            null|\n",
            "|      ILLINOIS|2018|   2|                                                                       null|                                                null|                     null|                                         null|                            null|\n",
            "|  RHODE ISLAND|2018|   2|                                                                       null|                                                null|                     null|                                            8|                            null|\n",
            "|SOUTH CAROLINA|2018|   2|                                                                       null|                                                   2|                        4|                                         null|                            null|\n",
            "|   CONNECTICUT|2018|   2|                                                                       null|                                                null|                     null|                                         null|                            null|\n",
            "|      NEBRASKA|2018|   2|                                                                       null|                                                   3|                     null|                                         null|                            null|\n",
            "| WEST VIRGINIA|2018|   2|                                                                       null|                                                null|                     null|                                         null|                            null|\n",
            "|         IDAHO|2018|   2|                                                                       null|                                                   1|                     null|                                          108|                            null|\n",
            "|       MONTANA|2018|   2|                                                                       null|                                                null|                     null|                                         null|                            null|\n",
            "|        HAWAII|2018|   2|                                                                       null|                                                null|                     null|                                         null|                            null|\n",
            "|      OKLAHOMA|2018|   2|                                                                       null|                                                null|                        2|                                           43|                            null|\n",
            "| DIST. OF COL.|2018|   2|                                                                       null|                                                null|                     null|                                         null|                            null|\n",
            "|       WYOMING|2018|   2|                                                                       null|                                                null|                     null|                                         null|                            null|\n",
            "|        ALASKA|2018|   2|                                                                       null|                                                null|                     null|                                         null|                            null|\n",
            "|          GUAM|2018|   2|                                                                       null|                                                null|                     null|                                         null|                            null|\n",
            "|    WASHINGTON|2018|   2|                                                                       null|                                                null|                     null|                                          415|                            null|\n",
            "|      MARYLAND|2018|   2|                                                                       null|                                                   2|                        3|                                          332|                            null|\n",
            "|  PENNSYLVANIA|2018|   2|                                                                       null|                                                   1|                        2|                                          734|                            null|\n",
            "|   VIRGIN ISL.|2018|   2|                                                                       null|                                                null|                     null|                                         null|                            null|\n",
            "|    NEW MEXICO|2018|   2|                                                                       null|                                                null|                     null|                                           50|                            null|\n",
            "|       ARIZONA|2018|   2|                                                                       null|                                                   1|                        5|                                          183|                             216|\n",
            "|      MISSOURI|2018|   2|                                                                       null|                                                null|                     null|                                          219|                            null|\n",
            "+--------------+----+----+---------------------------------------------------------------------------+----------------------------------------------------+-------------------------+---------------------------------------------+--------------------------------+\n",
            "only showing top 100 rows\n",
            "\n",
            "root\n",
            " |-- area: string (nullable = true)\n",
            " |-- year: integer (nullable = true)\n",
            " |-- week: integer (nullable = true)\n",
            " |-- Salmonellosis (excluding Paratyphoid fever andTyphoid fever)†, Current week: integer (nullable = true)\n",
            " |-- Shiga toxin-producing Escherichia coli, Current week: integer (nullable = true)\n",
            " |-- Shigellosis, Current week: integer (nullable = true)\n",
            " |-- Chlamydia trachomatis infection, Current week: integer (nullable = true)\n",
            " |-- Coccidioidomycosis, Current week: integer (nullable = true)\n",
            "\n"
          ],
          "name": "stdout"
        }
      ]
    }
  ]
}