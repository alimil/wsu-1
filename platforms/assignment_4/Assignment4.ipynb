{
  "nbformat": 4,
  "nbformat_minor": 0,
  "metadata": {
    "colab": {
      "name": "Assignment4.ipynb",
      "version": "0.3.2",
      "provenance": [],
      "collapsed_sections": []
    },
    "kernelspec": {
      "name": "python3",
      "display_name": "Python 3"
    }
  },
  "cells": [
    {
      "metadata": {
        "id": "ryHqupxSNq4d",
        "colab_type": "text"
      },
      "cell_type": "markdown",
      "source": [
        "* Install JDK\n",
        "* download and unpack spark\n",
        "+1"
      ]
    },
    {
      "metadata": {
        "id": "YLCtcwSCmeGz",
        "colab_type": "code",
        "outputId": "e8a6a0af-da35-42f4-8c36-d6be7f673cc2",
        "colab": {
          "base_uri": "https://localhost:8080/",
          "height": 202
        }
      },
      "cell_type": "code",
      "source": [
        "!apt-get install openjdk-8-jdk-headless -qq > /dev/null\n",
        "![ ! -e \"$(basename spark-2.4.1-bin-hadoop2.7.tgz)\" ] && wget  http://apache.osuosl.org/spark/spark-2.4.1/spark-2.4.1-bin-hadoop2.7.tgz\n",
        "!tar xf spark-2.4.1-bin-hadoop2.7.tgz"
      ],
      "execution_count": 4,
      "outputs": [
        {
          "output_type": "stream",
          "text": [
            "--2019-04-09 12:28:17--  http://apache.osuosl.org/spark/spark-2.4.1/spark-2.4.1-bin-hadoop2.7.tgz\n",
            "Resolving apache.osuosl.org (apache.osuosl.org)... 64.50.233.100, 64.50.236.52, 140.211.166.134, ...\n",
            "Connecting to apache.osuosl.org (apache.osuosl.org)|64.50.233.100|:80... connected.\n",
            "HTTP request sent, awaiting response... 200 OK\n",
            "Length: 230778742 (220M) [application/x-gzip]\n",
            "Saving to: ‘spark-2.4.1-bin-hadoop2.7.tgz’\n",
            "\n",
            "spark-2.4.1-bin-had 100%[===================>] 220.09M  24.6MB/s    in 7.9s    \n",
            "\n",
            "2019-04-09 12:28:25 (28.0 MB/s) - ‘spark-2.4.1-bin-hadoop2.7.tgz’ saved [230778742/230778742]\n",
            "\n"
          ],
          "name": "stdout"
        }
      ]
    },
    {
      "metadata": {
        "id": "bqX0Sx6GN-7w",
        "colab_type": "text"
      },
      "cell_type": "markdown",
      "source": [
        "* install `findspark` for python to access spark\n",
        "* download two datasets\n",
        "\n",
        "*(3)*"
      ]
    },
    {
      "metadata": {
        "id": "omNkhAwl2V21",
        "colab_type": "code",
        "colab": {
          "base_uri": "https://localhost:8080/",
          "height": 202
        },
        "outputId": "0a1da19c-8282-45de-ef42-06cd367ab301"
      },
      "cell_type": "code",
      "source": [
        "!pip install -q findspark\n",
        "\n",
        "! [ ! -e \"$(basename ss.csv)\" ] && wget  https://raw.githubusercontent.com/borodark/wsu/master/platforms/assignment_4/ss.csv\n",
        "\n",
        "! [ ! -e \"$(basename ch.csv)\" ] && wget  https://raw.githubusercontent.com/borodark/wsu/master/platforms/assignment_4/ch.csv"
      ],
      "execution_count": 7,
      "outputs": [
        {
          "output_type": "stream",
          "text": [
            "--2019-04-09 12:35:16--  https://raw.githubusercontent.com/borodark/wsu/master/platforms/assignment_4/ch.csv\n",
            "Resolving raw.githubusercontent.com (raw.githubusercontent.com)... 151.101.0.133, 151.101.64.133, 151.101.128.133, ...\n",
            "Connecting to raw.githubusercontent.com (raw.githubusercontent.com)|151.101.0.133|:443... connected.\n",
            "HTTP request sent, awaiting response... 200 OK\n",
            "Length: 213061 (208K) [text/plain]\n",
            "Saving to: ‘ch.csv’\n",
            "\n",
            "\rch.csv                0%[                    ]       0  --.-KB/s               \rch.csv              100%[===================>] 208.07K  --.-KB/s    in 0.02s   \n",
            "\n",
            "2019-04-09 12:35:17 (9.43 MB/s) - ‘ch.csv’ saved [213061/213061]\n",
            "\n"
          ],
          "name": "stdout"
        }
      ]
    },
    {
      "metadata": {
        "id": "RybNk-lyOSuE",
        "colab_type": "text"
      },
      "cell_type": "markdown",
      "source": [
        "Start executing python \n",
        "* setup ENV variables for spark\n",
        "\n",
        "*(4)*"
      ]
    },
    {
      "metadata": {
        "id": "l6yH8VATnKiN",
        "colab_type": "code",
        "colab": {}
      },
      "cell_type": "code",
      "source": [
        "import os\n",
        "os.environ[\"JAVA_HOME\"] = \"/usr/lib/jvm/java-8-openjdk-amd64\"\n",
        "os.environ[\"SPARK_HOME\"] = \"/content/spark-2.4.1-bin-hadoop2.7\""
      ],
      "execution_count": 0,
      "outputs": []
    },
    {
      "metadata": {
        "id": "T18FzAANRXSd",
        "colab_type": "text"
      },
      "cell_type": "markdown",
      "source": [
        "import libs and start spark session\n",
        "\n",
        "*(5)*"
      ]
    },
    {
      "metadata": {
        "id": "V61ecorTnQKK",
        "colab_type": "code",
        "colab": {}
      },
      "cell_type": "code",
      "source": [
        "import findspark\n",
        "findspark.init()\n",
        "from pyspark.sql import SparkSession\n",
        "\n",
        "# get a spark session. \n",
        "spark = SparkSession.builder.master(\"local[*]\").getOrCreate()"
      ],
      "execution_count": 0,
      "outputs": []
    },
    {
      "metadata": {
        "id": "KdQfE6TTUmbo",
        "colab_type": "text"
      },
      "cell_type": "markdown",
      "source": [
        "* read one csv \n",
        "* create columns filter\n",
        "* create new dataframe\n",
        "* rename columns in new dataframe\n",
        "\n",
        "*(7)*"
      ]
    },
    {
      "metadata": {
        "id": "lYdU0VDXmNhL",
        "colab_type": "code",
        "outputId": "f2e08f2d-8214-41b6-a81d-17cbace891e2",
        "colab": {
          "base_uri": "https://localhost:8080/",
          "height": 154
        }
      },
      "cell_type": "code",
      "source": [
        "\n",
        "ss_ = spark.read.csv(\"ss.csv\", header= True, \n",
        "                      inferSchema = True)\n",
        "\n",
        "print(ss_.columns)\n",
        "\n",
        "columns_lambda = lambda k: k.endswith(', Current week')\n",
        "\n",
        "common_cols = ['Reporting Area','MMWR Year','MMWR Week']\n",
        "\n",
        "ss_cols = list(filter(columns_lambda, ss_.columns))\n",
        "\n",
        "\n",
        "to_keep = common_cols + ss_cols\n",
        "\n",
        "dfss = ss_.select(*to_keep).withColumnRenamed('Reporting Area', 'area').withColumnRenamed('MMWR Year','year').withColumnRenamed('MMWR Week','week')\n",
        "dfss.columns"
      ],
      "execution_count": 29,
      "outputs": [
        {
          "output_type": "stream",
          "text": [
            "['Reporting Area', 'MMWR Year', 'MMWR Week', 'Salmonellosis (excluding Paratyphoid fever andTyphoid fever)†, Current week', 'Salmonellosis (excluding Paratyphoid fever andTyphoid fever)†, Current week, flag', 'Salmonellosis (excluding Paratyphoid fever andTyphoid fever)†, Previous 52 weeks Med', 'Salmonellosis (excluding Paratyphoid fever andTyphoid fever)†, Previous 52 weeks Med, flag', 'Salmonellosis (excluding Paratyphoid fever andTyphoid fever)†, Previous 52 weeks Max', 'Salmonellosis (excluding Paratyphoid fever andTyphoid fever)†, Previous 52 weeks Max, flag', 'Salmonellosis (excluding Paratyphoid fever andTyphoid fever)†, Cum 2018', 'Salmonellosis (excluding Paratyphoid fever andTyphoid fever)†, Cum 2018, flag', 'Salmonellosis (excluding Paratyphoid fever andTyphoid fever)†, Cum 2017', 'Salmonellosis (excluding Paratyphoid fever andTyphoid fever)†, Cum 2017, flag', 'Shiga toxin-producing Escherichia coli, Current week', 'Shiga toxin-producing Escherichia coli, Current week, flag', 'Shiga toxin-producing Escherichia coli, Previous 52 weeks Med', 'Shiga toxin-producing Escherichia coli, Previous 52 weeks Med, flag', 'Shiga toxin-producing Escherichia coli, Previous 52 weeks Max', 'Shiga toxin-producing Escherichia coli, Previous 52 weeks Max, flag', 'Shiga toxin-producing Escherichia coli, Cum 2018', 'Shiga toxin-producing Escherichia coli, Cum 2018, flag', 'Shiga toxin-producing Escherichia coli, Cum 2017', 'Shiga toxin-producing Escherichia coli, Cum 2017, flag', 'Shigellosis, Current week', 'Shigellosis, Current week, flag', 'Shigellosis, Previous 52 weeks Med', 'Shigellosis, Previous 52 weeks Med, flag', 'Shigellosis, Previous 52 weeks Max', 'Shigellosis, Previous 52 weeks Max, flag', 'Shigellosis, Cum 2018', 'Shigellosis, Cum 2018, flag', 'Shigellosis, Cum 2017', 'Shigellosis, Cum 2017, flag']\n"
          ],
          "name": "stdout"
        },
        {
          "output_type": "execute_result",
          "data": {
            "text/plain": [
              "['area',\n",
              " 'year',\n",
              " 'week',\n",
              " 'Salmonellosis (excluding Paratyphoid fever andTyphoid fever)†, Current week',\n",
              " 'Shiga toxin-producing Escherichia coli, Current week',\n",
              " 'Shigellosis, Current week']"
            ]
          },
          "metadata": {
            "tags": []
          },
          "execution_count": 29
        }
      ]
    },
    {
      "metadata": {
        "id": "iM8EQLOVVTqT",
        "colab_type": "text"
      },
      "cell_type": "markdown",
      "source": [
        "* repeat the same for another CSV"
      ]
    },
    {
      "metadata": {
        "id": "Dnvtmvp8UFl6",
        "colab_type": "code",
        "colab": {
          "base_uri": "https://localhost:8080/",
          "height": 101
        },
        "outputId": "59026363-332b-4553-9188-f7af4435a4b8"
      },
      "cell_type": "code",
      "source": [
        "ch_ = spark.read.csv(\"ch.csv\", header= True, \n",
        "                      inferSchema = True)\n",
        "\n",
        "ch_cols = list(filter(columns_lambda, ch_.columns))\n",
        "\n",
        "\n",
        "to_keep = common_cols + ch_cols\n",
        "\n",
        "chss = ch_.select(*to_keep).withColumnRenamed('Reporting Area', 'area').withColumnRenamed('MMWR Year','year').withColumnRenamed('MMWR Week','week')\n",
        "\n",
        "chss.columns"
      ],
      "execution_count": 30,
      "outputs": [
        {
          "output_type": "execute_result",
          "data": {
            "text/plain": [
              "['area',\n",
              " 'year',\n",
              " 'week',\n",
              " 'Chlamydia trachomatis infection, Current week',\n",
              " 'Coccidioidomycosis, Current week']"
            ]
          },
          "metadata": {
            "tags": []
          },
          "execution_count": 30
        }
      ]
    },
    {
      "metadata": {
        "id": "b-Yiqq1JVkGG",
        "colab_type": "text"
      },
      "cell_type": "markdown",
      "source": [
        "* create colum list for joined dataframe\n",
        "* join two dataframes on common columns: ['area', 'year', 'week']\n",
        "* select only a few columns\n",
        "* display schema of final dataframe\n",
        "\n",
        "*(10)*"
      ]
    },
    {
      "metadata": {
        "id": "JqQE0Nmwb-DL",
        "colab_type": "code",
        "colab": {
          "base_uri": "https://localhost:8080/",
          "height": 474
        },
        "outputId": "cc8a296f-ff14-4e70-f05e-4fd0f061f963"
      },
      "cell_type": "code",
      "source": [
        "to_keep = [chss.area, chss.year, chss.week] + ss_cols + ch_cols\n",
        "\n",
        "chss = chss.join(dfss, [chss.area == dfss.area, chss.week == dfss.week ,chss.year == dfss.year]).select(*to_keep)\n",
        "chss.show(10)\n",
        "chss.printSchema()"
      ],
      "execution_count": 31,
      "outputs": [
        {
          "output_type": "stream",
          "text": [
            "+-------------+----+----+---------------------------------------------------------------------------+----------------------------------------------------+-------------------------+---------------------------------------------+--------------------------------+\n",
            "|         area|year|week|Salmonellosis (excluding Paratyphoid fever andTyphoid fever)†, Current week|Shiga toxin-producing Escherichia coli, Current week|Shigellosis, Current week|Chlamydia trachomatis infection, Current week|Coccidioidomycosis, Current week|\n",
            "+-------------+----+----+---------------------------------------------------------------------------+----------------------------------------------------+-------------------------+---------------------------------------------+--------------------------------+\n",
            "|UNITED STATES|2018|   1|                                                                          9|                                                  15|                       50|                                         3741|                             262|\n",
            "|  NEW ENGLAND|2018|   1|                                                                       null|                                                null|                     null|                                            9|                            null|\n",
            "|MID. ATLANTIC|2018|   1|                                                                          9|                                                   3|                       12|                                          932|                            null|\n",
            "|NEW YORK CITY|2018|   1|                                                                          9|                                                   1|                       10|                                         null|                            null|\n",
            "| E.N. CENTRAL|2018|   1|                                                                       null|                                                   5|                       12|                                         1017|                            null|\n",
            "| W.N. CENTRAL|2018|   1|                                                                       null|                                                   3|                        3|                                          171|                               1|\n",
            "|  S. ATLANTIC|2018|   1|                                                                       null|                                                   1|                        8|                                          411|                            null|\n",
            "| E.S. CENTRAL|2018|   1|                                                                       null|                                                null|                       10|                                          150|                            null|\n",
            "| W.S. CENTRAL|2018|   1|                                                                       null|                                                   1|                        1|                                           11|                            null|\n",
            "|     MOUNTAIN|2018|   1|                                                                       null|                                                null|                        2|                                          481|                             261|\n",
            "+-------------+----+----+---------------------------------------------------------------------------+----------------------------------------------------+-------------------------+---------------------------------------------+--------------------------------+\n",
            "only showing top 10 rows\n",
            "\n",
            "root\n",
            " |-- area: string (nullable = true)\n",
            " |-- year: integer (nullable = true)\n",
            " |-- week: integer (nullable = true)\n",
            " |-- Salmonellosis (excluding Paratyphoid fever andTyphoid fever)†, Current week: integer (nullable = true)\n",
            " |-- Shiga toxin-producing Escherichia coli, Current week: integer (nullable = true)\n",
            " |-- Shigellosis, Current week: integer (nullable = true)\n",
            " |-- Chlamydia trachomatis infection, Current week: integer (nullable = true)\n",
            " |-- Coccidioidomycosis, Current week: integer (nullable = true)\n",
            "\n"
          ],
          "name": "stdout"
        }
      ]
    },
    {
      "metadata": {
        "id": "9VdJeW4_Vg4H",
        "colab_type": "text"
      },
      "cell_type": "markdown",
      "source": [
        "* show total for each \"_ , Current Week\" columns by state for a year. Where these Virginia islands anyway?\n",
        "\n",
        "*(13)*"
      ]
    },
    {
      "metadata": {
        "id": "wpx2xpwE022Y",
        "colab_type": "code",
        "colab": {
          "base_uri": "https://localhost:8080/",
          "height": 1146
        },
        "outputId": "716f342c-8a40-4016-aed0-aec99f508518"
      },
      "cell_type": "code",
      "source": [
        "chss.groupBy(['area', 'year']).sum(*(ss_cols + ch_cols)).orderBy(['area', 'year']).show(60)"
      ],
      "execution_count": 39,
      "outputs": [
        {
          "output_type": "stream",
          "text": [
            "+--------------+----+--------------------------------------------------------------------------------+---------------------------------------------------------+------------------------------+--------------------------------------------------+-------------------------------------+\n",
            "|          area|year|sum(Salmonellosis (excluding Paratyphoid fever andTyphoid fever)†, Current week)|sum(Shiga toxin-producing Escherichia coli, Current week)|sum(Shigellosis, Current week)|sum(Chlamydia trachomatis infection, Current week)|sum(Coccidioidomycosis, Current week)|\n",
            "+--------------+----+--------------------------------------------------------------------------------+---------------------------------------------------------+------------------------------+--------------------------------------------------+-------------------------------------+\n",
            "|       ALABAMA|2018|                                                                             240|                                                       17|                            65|                                              2917|                                 null|\n",
            "|        ALASKA|2018|                                                                            null|                                                       11|                             6|                                               403|                                 null|\n",
            "|   AMER. SAMOA|2018|                                                                            null|                                                     null|                          null|                                              null|                                 null|\n",
            "|       ARIZONA|2018|                                                                             640|                                                      174|                           285|                                             25315|                                 7996|\n",
            "|      ARKANSAS|2018|                                                                             100|                                                       56|                            88|                                              4267|                                    2|\n",
            "|      C.N.M.I.|2018|                                                                            null|                                                     null|                          null|                                              null|                                 null|\n",
            "|    CALIFORNIA|2018|                                                                             208|                                                     null|                           233|                                             16779|                                  569|\n",
            "|      COLORADO|2018|                                                                             575|                                                      273|                           129|                                             16788|                                 null|\n",
            "|   CONNECTICUT|2018|                                                                               5|                                                        8|                            17|                                               263|                                 null|\n",
            "|      DELAWARE|2018|                                                                               1|                                                     null|                          null|                                              2028|                                 null|\n",
            "| DIST. OF COL.|2018|                                                                            null|                                                        1|                             1|                                              2155|                                 null|\n",
            "|  E.N. CENTRAL|2018|                                                                            1229|                                                      669|                           519|                                             71469|                                   18|\n",
            "|  E.S. CENTRAL|2018|                                                                             461|                                                       63|                           138|                                             26784|                                 null|\n",
            "|       FLORIDA|2018|                                                                             338|                                                       82|                           196|                                             58741|                                 null|\n",
            "|       GEORGIA|2018|                                                                              39|                                                       15|                           135|                                             18774|                                 null|\n",
            "|          GUAM|2018|                                                                            null|                                                     null|                          null|                                              null|                                 null|\n",
            "|        HAWAII|2018|                                                                              13|                                                        1|                            13|                                                 8|                                 null|\n",
            "|         IDAHO|2018|                                                                             156|                                                      142|                            30|                                              2087|                                 null|\n",
            "|      ILLINOIS|2018|                                                                            null|                                                     null|                          null|                                              2153|                                 null|\n",
            "|       INDIANA|2018|                                                                            null|                                                     null|                          null|                                             14875|                                 null|\n",
            "|          IOWA|2018|                                                                             254|                                                       46|                            25|                                              1749|                                 null|\n",
            "|        KANSAS|2018|                                                                              25|                                                        6|                          null|                                              5294|                                 null|\n",
            "|      KENTUCKY|2018|                                                                              49|                                                       20|                             8|                                               333|                                 null|\n",
            "|     LOUISIANA|2018|                                                                             404|                                                       16|                            85|                                             23976|                                    5|\n",
            "|         MAINE|2018|                                                                              57|                                                       12|                             5|                                               733|                                 null|\n",
            "|      MARYLAND|2018|                                                                             568|                                                      112|                           163|                                             11356|                                    3|\n",
            "| MASSACHUSETTS|2018|                                                                              72|                                                        3|                            48|                                              5405|                                 null|\n",
            "|      MICHIGAN|2018|                                                                               7|                                                       12|                             7|                                             12428|                                 null|\n",
            "| MID. ATLANTIC|2018|                                                                            2100|                                                      416|                          1277|                                            138734|                                 null|\n",
            "|     MINNESOTA|2018|                                                                            null|                                                     null|                          null|                                               426|                                    9|\n",
            "|   MISSISSIPPI|2018|                                                                              76|                                                        1|                            32|                                             12731|                                 null|\n",
            "|      MISSOURI|2018|                                                                             824|                                                      207|                           218|                                             16478|                                    5|\n",
            "|       MONTANA|2018|                                                                              10|                                                       16|                          null|                                              2847|                                    5|\n",
            "|      MOUNTAIN|2018|                                                                            1490|                                                      637|                           470|                                             60461|                                 8005|\n",
            "|      NEBRASKA|2018|                                                                            null|                                                      125|                            32|                                              2696|                                 null|\n",
            "|        NEVADA|2018|                                                                              20|                                                        5|                             4|                                              1260|                                    2|\n",
            "|   NEW ENGLAND|2018|                                                                             194|                                                       44|                            83|                                             11063|                                 null|\n",
            "| NEW HAMPSHIRE|2018|                                                                              11|                                                        4|                          null|                                              2464|                                 null|\n",
            "|    NEW JERSEY|2018|                                                                               3|                                                     null|                             4|                                             12001|                                 null|\n",
            "|    NEW MEXICO|2018|                                                                               3|                                                       10|                            11|                                              5526|                                    1|\n",
            "|      NEW YORK|2018|                                                                             452|                                                      254|                           407|                                             46499|                                 null|\n",
            "| NEW YORK CITY|2018|                                                                             933|                                                       23|                           784|                                             36543|                                 null|\n",
            "|NORTH CAROLINA|2018|                                                                            null|                                                     null|                             1|                                               483|                                 null|\n",
            "|  NORTH DAKOTA|2018|                                                                               3|                                                        8|                             1|                                               331|                                 null|\n",
            "|          OHIO|2018|                                                                            1038|                                                      495|                           458|                                             26189|                                   18|\n",
            "|      OKLAHOMA|2018|                                                                              11|                                                      148|                            75|                                              2332|                                 null|\n",
            "|        OREGON|2018|                                                                              68|                                                      137|                           133|                                             18942|                                    5|\n",
            "|       PACIFIC|2018|                                                                             455|                                                      325|                           596|                                             62898|                                  574|\n",
            "|  PENNSYLVANIA|2018|                                                                             712|                                                      139|                            82|                                             43691|                                 null|\n",
            "|   PUERTO RICO|2018|                                                                            null|                                                     null|                          null|                                              2449|                                 null|\n",
            "|  RHODE ISLAND|2018|                                                                              26|                                                        4|                             4|                                              2115|                                 null|\n",
            "|   S. ATLANTIC|2018|                                                                            1632|                                                      457|                           698|                                            162918|                                    3|\n",
            "|SOUTH CAROLINA|2018|                                                                            null|                                                       55|                           102|                                             27391|                                 null|\n",
            "|  SOUTH DAKOTA|2018|                                                                               1|                                                        1|                          null|                                               873|                                 null|\n",
            "|     TENNESSEE|2018|                                                                              96|                                                       25|                            33|                                             10803|                                 null|\n",
            "|         TEXAS|2018|                                                                            null|                                                      102|                           574|                                             91873|                                 null|\n",
            "| UNITED STATES|2018|                                                                            9183|                                                     3326|                          4879|                                            684622|                                 8621|\n",
            "|          UTAH|2018|                                                                              82|                                                       15|                            11|                                              5247|                                 null|\n",
            "|       VERMONT|2018|                                                                              23|                                                       13|                             9|                                                83|                                 null|\n",
            "|   VIRGIN ISL.|2018|                                                                            null|                                                     null|                          null|                                              null|                                 null|\n",
            "+--------------+----+--------------------------------------------------------------------------------+---------------------------------------------------------+------------------------------+--------------------------------------------------+-------------------------------------+\n",
            "only showing top 60 rows\n",
            "\n"
          ],
          "name": "stdout"
        }
      ]
    },
    {
      "metadata": {
        "id": "zXvDYJLikvU1",
        "colab_type": "text"
      },
      "cell_type": "markdown",
      "source": [
        "Le's focus on Midwest: \n",
        "* Illinois \n",
        "* Indiana \n",
        "* Iowa \n",
        "* Michigan \n",
        "* Minnesota \n",
        "* Missouri \n",
        "* Ohio \n",
        "* Wisconsin\n",
        "\n",
        "Show stats from DataFrame\n",
        "Convert to pandas\n",
        "Show stats\n",
        "\n",
        "*(15)*"
      ]
    },
    {
      "metadata": {
        "id": "crazM-WQk9xv",
        "colab_type": "code",
        "colab": {
          "base_uri": "https://localhost:8080/",
          "height": 675
        },
        "outputId": "77f460f2-e655-47bc-f936-79d797b6f1f5"
      },
      "cell_type": "code",
      "source": [
        "midwest = list(map( lambda k: k.upper() , ['Illinois', 'Indiana', 'Iowa', 'Michigan', 'Minnesota', 'Missouri' , 'Ohio' ,'Wisconsin' ]))\n",
        "\n",
        "midwest_df = chss.filter( chss.area.isin(*midwest)).groupBy(['area', 'year']).sum(*(ss_cols + ch_cols)).orderBy(['area', 'year'])\n",
        "midwest_df.show(8)\n",
        "\n",
        "midwest_df.summary().show()\n",
        "\n",
        "pd = midwest_df.toPandas()\n",
        "pd.describe()\n",
        "pd.info()"
      ],
      "execution_count": 55,
      "outputs": [
        {
          "output_type": "stream",
          "text": [
            "+---------+----+--------------------------------------------------------------------------------+---------------------------------------------------------+------------------------------+--------------------------------------------------+-------------------------------------+\n",
            "|     area|year|sum(Salmonellosis (excluding Paratyphoid fever andTyphoid fever)†, Current week)|sum(Shiga toxin-producing Escherichia coli, Current week)|sum(Shigellosis, Current week)|sum(Chlamydia trachomatis infection, Current week)|sum(Coccidioidomycosis, Current week)|\n",
            "+---------+----+--------------------------------------------------------------------------------+---------------------------------------------------------+------------------------------+--------------------------------------------------+-------------------------------------+\n",
            "| ILLINOIS|2018|                                                                            null|                                                     null|                          null|                                              2153|                                 null|\n",
            "|  INDIANA|2018|                                                                            null|                                                     null|                          null|                                             14875|                                 null|\n",
            "|     IOWA|2018|                                                                             254|                                                       46|                            25|                                              1749|                                 null|\n",
            "| MICHIGAN|2018|                                                                               7|                                                       12|                             7|                                             12428|                                 null|\n",
            "|MINNESOTA|2018|                                                                            null|                                                     null|                          null|                                               426|                                    9|\n",
            "| MISSOURI|2018|                                                                             824|                                                      207|                           218|                                             16478|                                    5|\n",
            "|     OHIO|2018|                                                                            1038|                                                      495|                           458|                                             26189|                                   18|\n",
            "|WISCONSIN|2018|                                                                             184|                                                      162|                            54|                                             15824|                                 null|\n",
            "+---------+----+--------------------------------------------------------------------------------+---------------------------------------------------------+------------------------------+--------------------------------------------------+-------------------------------------+\n",
            "\n",
            "+-------+---------+------+--------------------------------------------------------------------------------+---------------------------------------------------------+------------------------------+--------------------------------------------------+-------------------------------------+\n",
            "|summary|     area|  year|sum(Salmonellosis (excluding Paratyphoid fever andTyphoid fever)†, Current week)|sum(Shiga toxin-producing Escherichia coli, Current week)|sum(Shigellosis, Current week)|sum(Chlamydia trachomatis infection, Current week)|sum(Coccidioidomycosis, Current week)|\n",
            "+-------+---------+------+--------------------------------------------------------------------------------+---------------------------------------------------------+------------------------------+--------------------------------------------------+-------------------------------------+\n",
            "|  count|        8|     8|                                                                               5|                                                        5|                             5|                                                 8|                                    3|\n",
            "|   mean|     null|2018.0|                                                                           461.4|                                                    184.4|                         152.4|                                          11265.25|                   10.666666666666666|\n",
            "| stddev|     null|   0.0|                                                              444.51974084398097|                                       191.28591166105255|             190.2295981176431|                                 9072.226183719817|                   6.6583281184793925|\n",
            "|    min| ILLINOIS|  2018|                                                                               7|                                                       12|                             7|                                               426|                                    5|\n",
            "|    25%|     null|  2018|                                                                             184|                                                       46|                            25|                                              1749|                                    5|\n",
            "|    50%|     null|  2018|                                                                             254|                                                      162|                            54|                                             12428|                                    9|\n",
            "|    75%|     null|  2018|                                                                             824|                                                      207|                           218|                                             15824|                                   18|\n",
            "|    max|WISCONSIN|  2018|                                                                            1038|                                                      495|                           458|                                             26189|                                   18|\n",
            "+-------+---------+------+--------------------------------------------------------------------------------+---------------------------------------------------------+------------------------------+--------------------------------------------------+-------------------------------------+\n",
            "\n",
            "<class 'pandas.core.frame.DataFrame'>\n",
            "RangeIndex: 8 entries, 0 to 7\n",
            "Data columns (total 7 columns):\n",
            "area                                                                                8 non-null object\n",
            "year                                                                                8 non-null int32\n",
            "sum(Salmonellosis (excluding Paratyphoid fever andTyphoid fever)†, Current week)    5 non-null float64\n",
            "sum(Shiga toxin-producing Escherichia coli, Current week)                           5 non-null float64\n",
            "sum(Shigellosis, Current week)                                                      5 non-null float64\n",
            "sum(Chlamydia trachomatis infection, Current week)                                  8 non-null int64\n",
            "sum(Coccidioidomycosis, Current week)                                               3 non-null float64\n",
            "dtypes: float64(4), int32(1), int64(1), object(1)\n",
            "memory usage: 496.0+ bytes\n"
          ],
          "name": "stdout"
        }
      ]
    }
  ]
}